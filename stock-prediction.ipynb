{
 "cells": [
  {
   "cell_type": "code",
   "execution_count": 1,
   "metadata": {},
   "outputs": [],
   "source": [
    "import numpy as np\n",
    "import pandas as pd\n",
    "import matplotlib.pyplot as plt\n",
    "import seaborn as sns \n",
    "from sklearn.model_selection import train_test_split\n",
    "from sklearn.preprocessing import StandardScaler\n",
    "from sklearn.decomposition import PCA\n",
    "from keras.models import Model\n",
    "from keras.layers import Input, LSTM, Dense, Dropout , Dense, RNN , SimpleRNNCell\n",
    "from sklearn.random_projection import GaussianRandomProjection\n",
    "import tensorflow as tf\n",
    "from tensorflow.keras.callbacks import EarlyStopping\n",
    "from sklearn.decomposition import TruncatedSVD\n",
    "from sklearn.metrics import mean_squared_error\n",
    "from sklearn.metrics import mean_absolute_error as mae \n",
    "from tensorflow.keras.layers import Input, RNN, Dropout, Dense, SimpleRNNCell ,Conv1D, MaxPooling1D, Flatten\n",
    "from tensorflow.keras.models import Model"
   ]
  },
  {
   "cell_type": "code",
   "execution_count": 2,
   "metadata": {},
   "outputs": [
    {
     "data": {
      "text/html": [
       "<div>\n",
       "<style scoped>\n",
       "    .dataframe tbody tr th:only-of-type {\n",
       "        vertical-align: middle;\n",
       "    }\n",
       "\n",
       "    .dataframe tbody tr th {\n",
       "        vertical-align: top;\n",
       "    }\n",
       "\n",
       "    .dataframe thead th {\n",
       "        text-align: right;\n",
       "    }\n",
       "</style>\n",
       "<table border=\"1\" class=\"dataframe\">\n",
       "  <thead>\n",
       "    <tr style=\"text-align: right;\">\n",
       "      <th></th>\n",
       "      <th>تاریخ / میلادی</th>\n",
       "      <th>تاریخ / شمسی</th>\n",
       "      <th>indexdate</th>\n",
       "      <th>Open</th>\n",
       "      <th>Min</th>\n",
       "      <th>Max</th>\n",
       "      <th>Closed</th>\n",
       "      <th>Rc</th>\n",
       "      <th>Pc</th>\n",
       "    </tr>\n",
       "  </thead>\n",
       "  <tbody>\n",
       "    <tr>\n",
       "      <th>0</th>\n",
       "      <td>2019-03-24</td>\n",
       "      <td>1398/01/04</td>\n",
       "      <td>1</td>\n",
       "      <td>178788.0</td>\n",
       "      <td>178743.0</td>\n",
       "      <td>179194.0</td>\n",
       "      <td>179194.0</td>\n",
       "      <td>572</td>\n",
       "      <td>0.0032</td>\n",
       "    </tr>\n",
       "    <tr>\n",
       "      <th>1</th>\n",
       "      <td>2019-03-25</td>\n",
       "      <td>1398/01/05</td>\n",
       "      <td>2</td>\n",
       "      <td>179622.0</td>\n",
       "      <td>179444.0</td>\n",
       "      <td>179847.0</td>\n",
       "      <td>179766.0</td>\n",
       "      <td>1776</td>\n",
       "      <td>0.0099</td>\n",
       "    </tr>\n",
       "    <tr>\n",
       "      <th>2</th>\n",
       "      <td>2019-03-26</td>\n",
       "      <td>1398/01/06</td>\n",
       "      <td>3</td>\n",
       "      <td>180037.0</td>\n",
       "      <td>180037.0</td>\n",
       "      <td>181542.0</td>\n",
       "      <td>181542.0</td>\n",
       "      <td>3816</td>\n",
       "      <td>0.021</td>\n",
       "    </tr>\n",
       "    <tr>\n",
       "      <th>3</th>\n",
       "      <td>2019-03-29</td>\n",
       "      <td>1398/01/09</td>\n",
       "      <td>4</td>\n",
       "      <td>181906.0</td>\n",
       "      <td>181906.0</td>\n",
       "      <td>185358.0</td>\n",
       "      <td>185358.0</td>\n",
       "      <td>77</td>\n",
       "      <td>0.0004</td>\n",
       "    </tr>\n",
       "    <tr>\n",
       "      <th>4</th>\n",
       "      <td>2019-03-30</td>\n",
       "      <td>1398/01/10</td>\n",
       "      <td>5</td>\n",
       "      <td>186000.0</td>\n",
       "      <td>185281.0</td>\n",
       "      <td>186783.0</td>\n",
       "      <td>185281.0</td>\n",
       "      <td>1254</td>\n",
       "      <td>0.0068</td>\n",
       "    </tr>\n",
       "  </tbody>\n",
       "</table>\n",
       "</div>"
      ],
      "text/plain": [
       "  تاریخ / میلادی تاریخ / شمسی  indexdate      Open       Min       Max  \\\n",
       "0     2019-03-24   1398/01/04          1  178788.0  178743.0  179194.0   \n",
       "1     2019-03-25   1398/01/05          2  179622.0  179444.0  179847.0   \n",
       "2     2019-03-26   1398/01/06          3  180037.0  180037.0  181542.0   \n",
       "3     2019-03-29   1398/01/09          4  181906.0  181906.0  185358.0   \n",
       "4     2019-03-30   1398/01/10          5  186000.0  185281.0  186783.0   \n",
       "\n",
       "     Closed    Rc      Pc  \n",
       "0  179194.0   572  0.0032  \n",
       "1  179766.0  1776  0.0099  \n",
       "2  181542.0  3816   0.021  \n",
       "3  185358.0    77  0.0004  \n",
       "4  185281.0  1254  0.0068  "
      ]
     },
     "execution_count": 2,
     "metadata": {},
     "output_type": "execute_result"
    }
   ],
   "source": [
    "data = pd.read_excel(\"stock-data.xlsx\")\n",
    "data.head()"
   ]
  },
  {
   "cell_type": "code",
   "execution_count": 3,
   "metadata": {},
   "outputs": [
    {
     "data": {
      "text/plain": [
       "(1110, 9)"
      ]
     },
     "execution_count": 3,
     "metadata": {},
     "output_type": "execute_result"
    }
   ],
   "source": [
    "data.shape"
   ]
  },
  {
   "cell_type": "code",
   "execution_count": 4,
   "metadata": {},
   "outputs": [
    {
     "data": {
      "text/plain": [
       "(1110, 9)"
      ]
     },
     "execution_count": 4,
     "metadata": {},
     "output_type": "execute_result"
    }
   ],
   "source": [
    "df = data.copy()\n",
    "df.shape"
   ]
  },
  {
   "cell_type": "code",
   "execution_count": 5,
   "metadata": {},
   "outputs": [
    {
     "data": {
      "text/html": [
       "<div>\n",
       "<style scoped>\n",
       "    .dataframe tbody tr th:only-of-type {\n",
       "        vertical-align: middle;\n",
       "    }\n",
       "\n",
       "    .dataframe tbody tr th {\n",
       "        vertical-align: top;\n",
       "    }\n",
       "\n",
       "    .dataframe thead th {\n",
       "        text-align: right;\n",
       "    }\n",
       "</style>\n",
       "<table border=\"1\" class=\"dataframe\">\n",
       "  <thead>\n",
       "    <tr style=\"text-align: right;\">\n",
       "      <th></th>\n",
       "      <th>تاریخ / میلادی</th>\n",
       "      <th>تاریخ / شمسی</th>\n",
       "      <th>indexdate</th>\n",
       "      <th>Open</th>\n",
       "      <th>Min</th>\n",
       "      <th>Max</th>\n",
       "      <th>Closed</th>\n",
       "      <th>Rc</th>\n",
       "      <th>Pc</th>\n",
       "    </tr>\n",
       "  </thead>\n",
       "  <tbody>\n",
       "    <tr>\n",
       "      <th>0</th>\n",
       "      <td>2019-03-24</td>\n",
       "      <td>1398/01/04</td>\n",
       "      <td>1</td>\n",
       "      <td>178788.0</td>\n",
       "      <td>178743.0</td>\n",
       "      <td>179194.0</td>\n",
       "      <td>179194.0</td>\n",
       "      <td>572</td>\n",
       "      <td>0.0032</td>\n",
       "    </tr>\n",
       "    <tr>\n",
       "      <th>1</th>\n",
       "      <td>2019-03-25</td>\n",
       "      <td>1398/01/05</td>\n",
       "      <td>2</td>\n",
       "      <td>179622.0</td>\n",
       "      <td>179444.0</td>\n",
       "      <td>179847.0</td>\n",
       "      <td>179766.0</td>\n",
       "      <td>1776</td>\n",
       "      <td>0.0099</td>\n",
       "    </tr>\n",
       "    <tr>\n",
       "      <th>2</th>\n",
       "      <td>2019-03-26</td>\n",
       "      <td>1398/01/06</td>\n",
       "      <td>3</td>\n",
       "      <td>180037.0</td>\n",
       "      <td>180037.0</td>\n",
       "      <td>181542.0</td>\n",
       "      <td>181542.0</td>\n",
       "      <td>3816</td>\n",
       "      <td>0.021</td>\n",
       "    </tr>\n",
       "    <tr>\n",
       "      <th>3</th>\n",
       "      <td>2019-03-29</td>\n",
       "      <td>1398/01/09</td>\n",
       "      <td>4</td>\n",
       "      <td>181906.0</td>\n",
       "      <td>181906.0</td>\n",
       "      <td>185358.0</td>\n",
       "      <td>185358.0</td>\n",
       "      <td>77</td>\n",
       "      <td>0.0004</td>\n",
       "    </tr>\n",
       "    <tr>\n",
       "      <th>4</th>\n",
       "      <td>2019-03-30</td>\n",
       "      <td>1398/01/10</td>\n",
       "      <td>5</td>\n",
       "      <td>186000.0</td>\n",
       "      <td>185281.0</td>\n",
       "      <td>186783.0</td>\n",
       "      <td>185281.0</td>\n",
       "      <td>1254</td>\n",
       "      <td>0.0068</td>\n",
       "    </tr>\n",
       "  </tbody>\n",
       "</table>\n",
       "</div>"
      ],
      "text/plain": [
       "  تاریخ / میلادی تاریخ / شمسی  indexdate      Open       Min       Max  \\\n",
       "0     2019-03-24   1398/01/04          1  178788.0  178743.0  179194.0   \n",
       "1     2019-03-25   1398/01/05          2  179622.0  179444.0  179847.0   \n",
       "2     2019-03-26   1398/01/06          3  180037.0  180037.0  181542.0   \n",
       "3     2019-03-29   1398/01/09          4  181906.0  181906.0  185358.0   \n",
       "4     2019-03-30   1398/01/10          5  186000.0  185281.0  186783.0   \n",
       "\n",
       "     Closed    Rc      Pc  \n",
       "0  179194.0   572  0.0032  \n",
       "1  179766.0  1776  0.0099  \n",
       "2  181542.0  3816   0.021  \n",
       "3  185358.0    77  0.0004  \n",
       "4  185281.0  1254  0.0068  "
      ]
     },
     "execution_count": 5,
     "metadata": {},
     "output_type": "execute_result"
    }
   ],
   "source": [
    "df.head()"
   ]
  },
  {
   "cell_type": "code",
   "execution_count": 6,
   "metadata": {},
   "outputs": [
    {
     "data": {
      "text/html": [
       "<div>\n",
       "<style scoped>\n",
       "    .dataframe tbody tr th:only-of-type {\n",
       "        vertical-align: middle;\n",
       "    }\n",
       "\n",
       "    .dataframe tbody tr th {\n",
       "        vertical-align: top;\n",
       "    }\n",
       "\n",
       "    .dataframe thead th {\n",
       "        text-align: right;\n",
       "    }\n",
       "</style>\n",
       "<table border=\"1\" class=\"dataframe\">\n",
       "  <thead>\n",
       "    <tr style=\"text-align: right;\">\n",
       "      <th></th>\n",
       "      <th>تاریخ / میلادی</th>\n",
       "      <th>تاریخ / شمسی</th>\n",
       "      <th>indexdate</th>\n",
       "      <th>Open</th>\n",
       "      <th>Min</th>\n",
       "      <th>Max</th>\n",
       "      <th>Closed</th>\n",
       "      <th>Rc</th>\n",
       "      <th>Pc</th>\n",
       "    </tr>\n",
       "  </thead>\n",
       "  <tbody>\n",
       "    <tr>\n",
       "      <th>1105</th>\n",
       "      <td>NaT</td>\n",
       "      <td>NaN</td>\n",
       "      <td>1106</td>\n",
       "      <td>2120296.62</td>\n",
       "      <td>2110335.82</td>\n",
       "      <td>2120296.62</td>\n",
       "      <td>2110339.44</td>\n",
       "      <td>3066.8</td>\n",
       "      <td>0.0015</td>\n",
       "    </tr>\n",
       "    <tr>\n",
       "      <th>1106</th>\n",
       "      <td>NaT</td>\n",
       "      <td>NaN</td>\n",
       "      <td>1107</td>\n",
       "      <td>2110327.85</td>\n",
       "      <td>2105844.24</td>\n",
       "      <td>2110327.85</td>\n",
       "      <td>2107272.64</td>\n",
       "      <td>-</td>\n",
       "      <td>-</td>\n",
       "    </tr>\n",
       "    <tr>\n",
       "      <th>1107</th>\n",
       "      <td>NaT</td>\n",
       "      <td>NaN</td>\n",
       "      <td>1108</td>\n",
       "      <td>2107412.12</td>\n",
       "      <td>2107412.12</td>\n",
       "      <td>2114232.64</td>\n",
       "      <td>2111083.35</td>\n",
       "      <td>10909.52</td>\n",
       "      <td>0.0052</td>\n",
       "    </tr>\n",
       "    <tr>\n",
       "      <th>1108</th>\n",
       "      <td>NaT</td>\n",
       "      <td>NaN</td>\n",
       "      <td>1109</td>\n",
       "      <td>2111539.79</td>\n",
       "      <td>2100173.81</td>\n",
       "      <td>2111539.79</td>\n",
       "      <td>2100173.83</td>\n",
       "      <td>1701.87</td>\n",
       "      <td>0.0008</td>\n",
       "    </tr>\n",
       "    <tr>\n",
       "      <th>1109</th>\n",
       "      <td>NaT</td>\n",
       "      <td>NaN</td>\n",
       "      <td>1110</td>\n",
       "      <td>2098748.41</td>\n",
       "      <td>2098316.91</td>\n",
       "      <td>2099632.93</td>\n",
       "      <td>2098471.96</td>\n",
       "      <td>1701.87</td>\n",
       "      <td>0.0008</td>\n",
       "    </tr>\n",
       "  </tbody>\n",
       "</table>\n",
       "</div>"
      ],
      "text/plain": [
       "     تاریخ / میلادی تاریخ / شمسی  indexdate        Open         Min  \\\n",
       "1105            NaT          NaN       1106  2120296.62  2110335.82   \n",
       "1106            NaT          NaN       1107  2110327.85  2105844.24   \n",
       "1107            NaT          NaN       1108  2107412.12  2107412.12   \n",
       "1108            NaT          NaN       1109  2111539.79  2100173.81   \n",
       "1109            NaT          NaN       1110  2098748.41  2098316.91   \n",
       "\n",
       "             Max      Closed        Rc      Pc  \n",
       "1105  2120296.62  2110339.44    3066.8  0.0015  \n",
       "1106  2110327.85  2107272.64         -       -  \n",
       "1107  2114232.64  2111083.35  10909.52  0.0052  \n",
       "1108  2111539.79  2100173.83   1701.87  0.0008  \n",
       "1109  2099632.93  2098471.96   1701.87  0.0008  "
      ]
     },
     "execution_count": 6,
     "metadata": {},
     "output_type": "execute_result"
    }
   ],
   "source": [
    "df.tail()"
   ]
  },
  {
   "cell_type": "code",
   "execution_count": 7,
   "metadata": {},
   "outputs": [
    {
     "data": {
      "text/plain": [
       "تاریخ / میلادی    597\n",
       "تاریخ / شمسی      597\n",
       "indexdate           0\n",
       "Open                0\n",
       "Min                 0\n",
       "Max                 0\n",
       "Closed              0\n",
       "Rc                  0\n",
       "Pc                  0\n",
       "dtype: int64"
      ]
     },
     "execution_count": 7,
     "metadata": {},
     "output_type": "execute_result"
    }
   ],
   "source": [
    "df.isna().sum()"
   ]
  },
  {
   "cell_type": "code",
   "execution_count": 8,
   "metadata": {},
   "outputs": [
    {
     "data": {
      "text/html": [
       "<div>\n",
       "<style scoped>\n",
       "    .dataframe tbody tr th:only-of-type {\n",
       "        vertical-align: middle;\n",
       "    }\n",
       "\n",
       "    .dataframe tbody tr th {\n",
       "        vertical-align: top;\n",
       "    }\n",
       "\n",
       "    .dataframe thead th {\n",
       "        text-align: right;\n",
       "    }\n",
       "</style>\n",
       "<table border=\"1\" class=\"dataframe\">\n",
       "  <thead>\n",
       "    <tr style=\"text-align: right;\">\n",
       "      <th></th>\n",
       "      <th>indexdate</th>\n",
       "      <th>Open</th>\n",
       "      <th>Min</th>\n",
       "      <th>Max</th>\n",
       "      <th>Closed</th>\n",
       "    </tr>\n",
       "  </thead>\n",
       "  <tbody>\n",
       "    <tr>\n",
       "      <th>count</th>\n",
       "      <td>1110.000000</td>\n",
       "      <td>1.110000e+03</td>\n",
       "      <td>1.110000e+03</td>\n",
       "      <td>1.110000e+03</td>\n",
       "      <td>1.110000e+03</td>\n",
       "    </tr>\n",
       "    <tr>\n",
       "      <th>mean</th>\n",
       "      <td>555.500000</td>\n",
       "      <td>1.242474e+06</td>\n",
       "      <td>1.236630e+06</td>\n",
       "      <td>1.249643e+06</td>\n",
       "      <td>1.243475e+06</td>\n",
       "    </tr>\n",
       "    <tr>\n",
       "      <th>std</th>\n",
       "      <td>320.573704</td>\n",
       "      <td>5.947970e+05</td>\n",
       "      <td>5.918935e+05</td>\n",
       "      <td>5.974441e+05</td>\n",
       "      <td>5.944257e+05</td>\n",
       "    </tr>\n",
       "    <tr>\n",
       "      <th>min</th>\n",
       "      <td>1.000000</td>\n",
       "      <td>1.787880e+05</td>\n",
       "      <td>1.787430e+05</td>\n",
       "      <td>1.791940e+05</td>\n",
       "      <td>1.791940e+05</td>\n",
       "    </tr>\n",
       "    <tr>\n",
       "      <th>25%</th>\n",
       "      <td>278.250000</td>\n",
       "      <td>9.387086e+05</td>\n",
       "      <td>9.292301e+05</td>\n",
       "      <td>9.496069e+05</td>\n",
       "      <td>9.431221e+05</td>\n",
       "    </tr>\n",
       "    <tr>\n",
       "      <th>50%</th>\n",
       "      <td>555.500000</td>\n",
       "      <td>1.355466e+06</td>\n",
       "      <td>1.344945e+06</td>\n",
       "      <td>1.361572e+06</td>\n",
       "      <td>1.355296e+06</td>\n",
       "    </tr>\n",
       "    <tr>\n",
       "      <th>75%</th>\n",
       "      <td>832.750000</td>\n",
       "      <td>1.547076e+06</td>\n",
       "      <td>1.540182e+06</td>\n",
       "      <td>1.552784e+06</td>\n",
       "      <td>1.545974e+06</td>\n",
       "    </tr>\n",
       "    <tr>\n",
       "      <th>max</th>\n",
       "      <td>1110.000000</td>\n",
       "      <td>2.535236e+06</td>\n",
       "      <td>2.527546e+06</td>\n",
       "      <td>2.548227e+06</td>\n",
       "      <td>2.535237e+06</td>\n",
       "    </tr>\n",
       "  </tbody>\n",
       "</table>\n",
       "</div>"
      ],
      "text/plain": [
       "         indexdate          Open           Min           Max        Closed\n",
       "count  1110.000000  1.110000e+03  1.110000e+03  1.110000e+03  1.110000e+03\n",
       "mean    555.500000  1.242474e+06  1.236630e+06  1.249643e+06  1.243475e+06\n",
       "std     320.573704  5.947970e+05  5.918935e+05  5.974441e+05  5.944257e+05\n",
       "min       1.000000  1.787880e+05  1.787430e+05  1.791940e+05  1.791940e+05\n",
       "25%     278.250000  9.387086e+05  9.292301e+05  9.496069e+05  9.431221e+05\n",
       "50%     555.500000  1.355466e+06  1.344945e+06  1.361572e+06  1.355296e+06\n",
       "75%     832.750000  1.547076e+06  1.540182e+06  1.552784e+06  1.545974e+06\n",
       "max    1110.000000  2.535236e+06  2.527546e+06  2.548227e+06  2.535237e+06"
      ]
     },
     "execution_count": 8,
     "metadata": {},
     "output_type": "execute_result"
    }
   ],
   "source": [
    "df.describe()"
   ]
  },
  {
   "cell_type": "code",
   "execution_count": 9,
   "metadata": {},
   "outputs": [
    {
     "name": "stdout",
     "output_type": "stream",
     "text": [
      "<class 'pandas.core.frame.DataFrame'>\n",
      "RangeIndex: 1110 entries, 0 to 1109\n",
      "Data columns (total 9 columns):\n",
      " #   Column          Non-Null Count  Dtype         \n",
      "---  ------          --------------  -----         \n",
      " 0   تاریخ / میلادی  513 non-null    datetime64[ns]\n",
      " 1   تاریخ / شمسی    513 non-null    object        \n",
      " 2   indexdate       1110 non-null   int64         \n",
      " 3   Open            1110 non-null   float64       \n",
      " 4   Min             1110 non-null   float64       \n",
      " 5   Max             1110 non-null   float64       \n",
      " 6   Closed          1110 non-null   float64       \n",
      " 7   Rc              1110 non-null   object        \n",
      " 8   Pc              1110 non-null   object        \n",
      "dtypes: datetime64[ns](1), float64(4), int64(1), object(3)\n",
      "memory usage: 78.2+ KB\n"
     ]
    }
   ],
   "source": [
    "df.info()"
   ]
  },
  {
   "cell_type": "code",
   "execution_count": 10,
   "metadata": {},
   "outputs": [
    {
     "data": {
      "text/plain": [
       "Index(['تاریخ / میلادی', 'تاریخ / شمسی', 'indexdate', 'Open', 'Min', 'Max',\n",
       "       'Closed', 'Rc', 'Pc'],\n",
       "      dtype='object')"
      ]
     },
     "execution_count": 10,
     "metadata": {},
     "output_type": "execute_result"
    }
   ],
   "source": [
    "df.columns"
   ]
  },
  {
   "cell_type": "code",
   "execution_count": 11,
   "metadata": {},
   "outputs": [
    {
     "data": {
      "text/plain": [
       "0       1398/01/04\n",
       "1       1398/01/05\n",
       "2       1398/01/06\n",
       "3       1398/01/09\n",
       "4       1398/01/10\n",
       "           ...    \n",
       "1105           NaN\n",
       "1106           NaN\n",
       "1107           NaN\n",
       "1108           NaN\n",
       "1109           NaN\n",
       "Name: تاریخ / شمسی, Length: 1110, dtype: object"
      ]
     },
     "execution_count": 11,
     "metadata": {},
     "output_type": "execute_result"
    }
   ],
   "source": [
    "df.loc[:,\"تاریخ / شمسی\"]"
   ]
  },
  {
   "cell_type": "code",
   "execution_count": 12,
   "metadata": {},
   "outputs": [
    {
     "data": {
      "text/html": [
       "<div>\n",
       "<style scoped>\n",
       "    .dataframe tbody tr th:only-of-type {\n",
       "        vertical-align: middle;\n",
       "    }\n",
       "\n",
       "    .dataframe tbody tr th {\n",
       "        vertical-align: top;\n",
       "    }\n",
       "\n",
       "    .dataframe thead th {\n",
       "        text-align: right;\n",
       "    }\n",
       "</style>\n",
       "<table border=\"1\" class=\"dataframe\">\n",
       "  <thead>\n",
       "    <tr style=\"text-align: right;\">\n",
       "      <th></th>\n",
       "      <th>تاریخ / میلادی</th>\n",
       "      <th>تاریخ / شمسی</th>\n",
       "      <th>indexdate</th>\n",
       "      <th>Open</th>\n",
       "      <th>Min</th>\n",
       "      <th>Max</th>\n",
       "      <th>Closed</th>\n",
       "      <th>Rc</th>\n",
       "      <th>Pc</th>\n",
       "    </tr>\n",
       "  </thead>\n",
       "  <tbody>\n",
       "    <tr>\n",
       "      <th>512</th>\n",
       "      <td>2021-03-16</td>\n",
       "      <td>1399/12/26</td>\n",
       "      <td>513</td>\n",
       "      <td>1290474.5</td>\n",
       "      <td>1290474.5</td>\n",
       "      <td>1309868.4</td>\n",
       "      <td>1307657.4</td>\n",
       "      <td>1904.2</td>\n",
       "      <td>0.0015</td>\n",
       "    </tr>\n",
       "  </tbody>\n",
       "</table>\n",
       "</div>"
      ],
      "text/plain": [
       "    تاریخ / میلادی تاریخ / شمسی  indexdate       Open        Min        Max  \\\n",
       "512     2021-03-16   1399/12/26        513  1290474.5  1290474.5  1309868.4   \n",
       "\n",
       "        Closed      Rc      Pc  \n",
       "512  1307657.4  1904.2  0.0015  "
      ]
     },
     "execution_count": 12,
     "metadata": {},
     "output_type": "execute_result"
    }
   ],
   "source": [
    "df[ df[\"تاریخ / میلادی\"] =='2021-03-16']"
   ]
  },
  {
   "cell_type": "code",
   "execution_count": 13,
   "metadata": {},
   "outputs": [],
   "source": [
    "missing_dates = pd.date_range(start='2021-03-17', periods=597)"
   ]
  },
  {
   "cell_type": "code",
   "execution_count": 14,
   "metadata": {},
   "outputs": [],
   "source": [
    "df.loc[513:, \"تاریخ / میلادی\"] = missing_dates"
   ]
  },
  {
   "cell_type": "code",
   "execution_count": 15,
   "metadata": {},
   "outputs": [
    {
     "data": {
      "text/html": [
       "<div>\n",
       "<style scoped>\n",
       "    .dataframe tbody tr th:only-of-type {\n",
       "        vertical-align: middle;\n",
       "    }\n",
       "\n",
       "    .dataframe tbody tr th {\n",
       "        vertical-align: top;\n",
       "    }\n",
       "\n",
       "    .dataframe thead th {\n",
       "        text-align: right;\n",
       "    }\n",
       "</style>\n",
       "<table border=\"1\" class=\"dataframe\">\n",
       "  <thead>\n",
       "    <tr style=\"text-align: right;\">\n",
       "      <th></th>\n",
       "      <th>تاریخ / میلادی</th>\n",
       "      <th>تاریخ / شمسی</th>\n",
       "      <th>indexdate</th>\n",
       "      <th>Open</th>\n",
       "      <th>Min</th>\n",
       "      <th>Max</th>\n",
       "      <th>Closed</th>\n",
       "      <th>Rc</th>\n",
       "      <th>Pc</th>\n",
       "    </tr>\n",
       "  </thead>\n",
       "  <tbody>\n",
       "    <tr>\n",
       "      <th>1105</th>\n",
       "      <td>2022-10-30</td>\n",
       "      <td>NaN</td>\n",
       "      <td>1106</td>\n",
       "      <td>2120296.62</td>\n",
       "      <td>2110335.82</td>\n",
       "      <td>2120296.62</td>\n",
       "      <td>2110339.44</td>\n",
       "      <td>3066.8</td>\n",
       "      <td>0.0015</td>\n",
       "    </tr>\n",
       "    <tr>\n",
       "      <th>1106</th>\n",
       "      <td>2022-10-31</td>\n",
       "      <td>NaN</td>\n",
       "      <td>1107</td>\n",
       "      <td>2110327.85</td>\n",
       "      <td>2105844.24</td>\n",
       "      <td>2110327.85</td>\n",
       "      <td>2107272.64</td>\n",
       "      <td>-</td>\n",
       "      <td>-</td>\n",
       "    </tr>\n",
       "    <tr>\n",
       "      <th>1107</th>\n",
       "      <td>2022-11-01</td>\n",
       "      <td>NaN</td>\n",
       "      <td>1108</td>\n",
       "      <td>2107412.12</td>\n",
       "      <td>2107412.12</td>\n",
       "      <td>2114232.64</td>\n",
       "      <td>2111083.35</td>\n",
       "      <td>10909.52</td>\n",
       "      <td>0.0052</td>\n",
       "    </tr>\n",
       "    <tr>\n",
       "      <th>1108</th>\n",
       "      <td>2022-11-02</td>\n",
       "      <td>NaN</td>\n",
       "      <td>1109</td>\n",
       "      <td>2111539.79</td>\n",
       "      <td>2100173.81</td>\n",
       "      <td>2111539.79</td>\n",
       "      <td>2100173.83</td>\n",
       "      <td>1701.87</td>\n",
       "      <td>0.0008</td>\n",
       "    </tr>\n",
       "    <tr>\n",
       "      <th>1109</th>\n",
       "      <td>2022-11-03</td>\n",
       "      <td>NaN</td>\n",
       "      <td>1110</td>\n",
       "      <td>2098748.41</td>\n",
       "      <td>2098316.91</td>\n",
       "      <td>2099632.93</td>\n",
       "      <td>2098471.96</td>\n",
       "      <td>1701.87</td>\n",
       "      <td>0.0008</td>\n",
       "    </tr>\n",
       "  </tbody>\n",
       "</table>\n",
       "</div>"
      ],
      "text/plain": [
       "     تاریخ / میلادی تاریخ / شمسی  indexdate        Open         Min  \\\n",
       "1105     2022-10-30          NaN       1106  2120296.62  2110335.82   \n",
       "1106     2022-10-31          NaN       1107  2110327.85  2105844.24   \n",
       "1107     2022-11-01          NaN       1108  2107412.12  2107412.12   \n",
       "1108     2022-11-02          NaN       1109  2111539.79  2100173.81   \n",
       "1109     2022-11-03          NaN       1110  2098748.41  2098316.91   \n",
       "\n",
       "             Max      Closed        Rc      Pc  \n",
       "1105  2120296.62  2110339.44    3066.8  0.0015  \n",
       "1106  2110327.85  2107272.64         -       -  \n",
       "1107  2114232.64  2111083.35  10909.52  0.0052  \n",
       "1108  2111539.79  2100173.83   1701.87  0.0008  \n",
       "1109  2099632.93  2098471.96   1701.87  0.0008  "
      ]
     },
     "execution_count": 15,
     "metadata": {},
     "output_type": "execute_result"
    }
   ],
   "source": [
    "df.tail()"
   ]
  },
  {
   "cell_type": "code",
   "execution_count": 16,
   "metadata": {},
   "outputs": [],
   "source": [
    "df.drop(columns=[\"تاریخ / شمسی\",\"indexdate\"] , axis = 1 , inplace= True)"
   ]
  },
  {
   "cell_type": "code",
   "execution_count": 17,
   "metadata": {},
   "outputs": [],
   "source": [
    "df['year'] = df[\"تاریخ / میلادی\"].dt.year\n",
    "df['month'] = df[\"تاریخ / میلادی\"].dt.month\n",
    "df['day'] = df[\"تاریخ / میلادی\"].dt.day"
   ]
  },
  {
   "cell_type": "code",
   "execution_count": 18,
   "metadata": {},
   "outputs": [],
   "source": [
    "df.set_index(\"تاریخ / میلادی\", inplace=True)"
   ]
  },
  {
   "cell_type": "code",
   "execution_count": 19,
   "metadata": {},
   "outputs": [
    {
     "data": {
      "text/html": [
       "<div>\n",
       "<style scoped>\n",
       "    .dataframe tbody tr th:only-of-type {\n",
       "        vertical-align: middle;\n",
       "    }\n",
       "\n",
       "    .dataframe tbody tr th {\n",
       "        vertical-align: top;\n",
       "    }\n",
       "\n",
       "    .dataframe thead th {\n",
       "        text-align: right;\n",
       "    }\n",
       "</style>\n",
       "<table border=\"1\" class=\"dataframe\">\n",
       "  <thead>\n",
       "    <tr style=\"text-align: right;\">\n",
       "      <th></th>\n",
       "      <th>Open</th>\n",
       "      <th>Min</th>\n",
       "      <th>Max</th>\n",
       "      <th>Closed</th>\n",
       "      <th>Rc</th>\n",
       "      <th>Pc</th>\n",
       "      <th>year</th>\n",
       "      <th>month</th>\n",
       "      <th>day</th>\n",
       "    </tr>\n",
       "    <tr>\n",
       "      <th>تاریخ / میلادی</th>\n",
       "      <th></th>\n",
       "      <th></th>\n",
       "      <th></th>\n",
       "      <th></th>\n",
       "      <th></th>\n",
       "      <th></th>\n",
       "      <th></th>\n",
       "      <th></th>\n",
       "      <th></th>\n",
       "    </tr>\n",
       "  </thead>\n",
       "  <tbody>\n",
       "    <tr>\n",
       "      <th>2019-03-24</th>\n",
       "      <td>178788.0</td>\n",
       "      <td>178743.0</td>\n",
       "      <td>179194.0</td>\n",
       "      <td>179194.0</td>\n",
       "      <td>572</td>\n",
       "      <td>0.0032</td>\n",
       "      <td>2019</td>\n",
       "      <td>3</td>\n",
       "      <td>24</td>\n",
       "    </tr>\n",
       "    <tr>\n",
       "      <th>2019-03-25</th>\n",
       "      <td>179622.0</td>\n",
       "      <td>179444.0</td>\n",
       "      <td>179847.0</td>\n",
       "      <td>179766.0</td>\n",
       "      <td>1776</td>\n",
       "      <td>0.0099</td>\n",
       "      <td>2019</td>\n",
       "      <td>3</td>\n",
       "      <td>25</td>\n",
       "    </tr>\n",
       "    <tr>\n",
       "      <th>2019-03-26</th>\n",
       "      <td>180037.0</td>\n",
       "      <td>180037.0</td>\n",
       "      <td>181542.0</td>\n",
       "      <td>181542.0</td>\n",
       "      <td>3816</td>\n",
       "      <td>0.021</td>\n",
       "      <td>2019</td>\n",
       "      <td>3</td>\n",
       "      <td>26</td>\n",
       "    </tr>\n",
       "    <tr>\n",
       "      <th>2019-03-29</th>\n",
       "      <td>181906.0</td>\n",
       "      <td>181906.0</td>\n",
       "      <td>185358.0</td>\n",
       "      <td>185358.0</td>\n",
       "      <td>77</td>\n",
       "      <td>0.0004</td>\n",
       "      <td>2019</td>\n",
       "      <td>3</td>\n",
       "      <td>29</td>\n",
       "    </tr>\n",
       "    <tr>\n",
       "      <th>2019-03-30</th>\n",
       "      <td>186000.0</td>\n",
       "      <td>185281.0</td>\n",
       "      <td>186783.0</td>\n",
       "      <td>185281.0</td>\n",
       "      <td>1254</td>\n",
       "      <td>0.0068</td>\n",
       "      <td>2019</td>\n",
       "      <td>3</td>\n",
       "      <td>30</td>\n",
       "    </tr>\n",
       "  </tbody>\n",
       "</table>\n",
       "</div>"
      ],
      "text/plain": [
       "                    Open       Min       Max    Closed    Rc      Pc  year  \\\n",
       "تاریخ / میلادی                                                               \n",
       "2019-03-24      178788.0  178743.0  179194.0  179194.0   572  0.0032  2019   \n",
       "2019-03-25      179622.0  179444.0  179847.0  179766.0  1776  0.0099  2019   \n",
       "2019-03-26      180037.0  180037.0  181542.0  181542.0  3816   0.021  2019   \n",
       "2019-03-29      181906.0  181906.0  185358.0  185358.0    77  0.0004  2019   \n",
       "2019-03-30      186000.0  185281.0  186783.0  185281.0  1254  0.0068  2019   \n",
       "\n",
       "                month  day  \n",
       "تاریخ / میلادی              \n",
       "2019-03-24          3   24  \n",
       "2019-03-25          3   25  \n",
       "2019-03-26          3   26  \n",
       "2019-03-29          3   29  \n",
       "2019-03-30          3   30  "
      ]
     },
     "execution_count": 19,
     "metadata": {},
     "output_type": "execute_result"
    }
   ],
   "source": [
    "df.head()"
   ]
  },
  {
   "cell_type": "code",
   "execution_count": 20,
   "metadata": {},
   "outputs": [
    {
     "data": {
      "text/html": [
       "<div>\n",
       "<style scoped>\n",
       "    .dataframe tbody tr th:only-of-type {\n",
       "        vertical-align: middle;\n",
       "    }\n",
       "\n",
       "    .dataframe tbody tr th {\n",
       "        vertical-align: top;\n",
       "    }\n",
       "\n",
       "    .dataframe thead th {\n",
       "        text-align: right;\n",
       "    }\n",
       "</style>\n",
       "<table border=\"1\" class=\"dataframe\">\n",
       "  <thead>\n",
       "    <tr style=\"text-align: right;\">\n",
       "      <th></th>\n",
       "      <th>Open</th>\n",
       "      <th>Min</th>\n",
       "      <th>Max</th>\n",
       "      <th>Closed</th>\n",
       "      <th>Rc</th>\n",
       "      <th>Pc</th>\n",
       "      <th>year</th>\n",
       "      <th>month</th>\n",
       "      <th>day</th>\n",
       "    </tr>\n",
       "    <tr>\n",
       "      <th>تاریخ / میلادی</th>\n",
       "      <th></th>\n",
       "      <th></th>\n",
       "      <th></th>\n",
       "      <th></th>\n",
       "      <th></th>\n",
       "      <th></th>\n",
       "      <th></th>\n",
       "      <th></th>\n",
       "      <th></th>\n",
       "    </tr>\n",
       "  </thead>\n",
       "  <tbody>\n",
       "    <tr>\n",
       "      <th>2022-10-30</th>\n",
       "      <td>2120296.62</td>\n",
       "      <td>2110335.82</td>\n",
       "      <td>2120296.62</td>\n",
       "      <td>2110339.44</td>\n",
       "      <td>3066.8</td>\n",
       "      <td>0.0015</td>\n",
       "      <td>2022</td>\n",
       "      <td>10</td>\n",
       "      <td>30</td>\n",
       "    </tr>\n",
       "    <tr>\n",
       "      <th>2022-10-31</th>\n",
       "      <td>2110327.85</td>\n",
       "      <td>2105844.24</td>\n",
       "      <td>2110327.85</td>\n",
       "      <td>2107272.64</td>\n",
       "      <td>-</td>\n",
       "      <td>-</td>\n",
       "      <td>2022</td>\n",
       "      <td>10</td>\n",
       "      <td>31</td>\n",
       "    </tr>\n",
       "    <tr>\n",
       "      <th>2022-11-01</th>\n",
       "      <td>2107412.12</td>\n",
       "      <td>2107412.12</td>\n",
       "      <td>2114232.64</td>\n",
       "      <td>2111083.35</td>\n",
       "      <td>10909.52</td>\n",
       "      <td>0.0052</td>\n",
       "      <td>2022</td>\n",
       "      <td>11</td>\n",
       "      <td>1</td>\n",
       "    </tr>\n",
       "    <tr>\n",
       "      <th>2022-11-02</th>\n",
       "      <td>2111539.79</td>\n",
       "      <td>2100173.81</td>\n",
       "      <td>2111539.79</td>\n",
       "      <td>2100173.83</td>\n",
       "      <td>1701.87</td>\n",
       "      <td>0.0008</td>\n",
       "      <td>2022</td>\n",
       "      <td>11</td>\n",
       "      <td>2</td>\n",
       "    </tr>\n",
       "    <tr>\n",
       "      <th>2022-11-03</th>\n",
       "      <td>2098748.41</td>\n",
       "      <td>2098316.91</td>\n",
       "      <td>2099632.93</td>\n",
       "      <td>2098471.96</td>\n",
       "      <td>1701.87</td>\n",
       "      <td>0.0008</td>\n",
       "      <td>2022</td>\n",
       "      <td>11</td>\n",
       "      <td>3</td>\n",
       "    </tr>\n",
       "  </tbody>\n",
       "</table>\n",
       "</div>"
      ],
      "text/plain": [
       "                      Open         Min         Max      Closed        Rc  \\\n",
       "تاریخ / میلادی                                                             \n",
       "2022-10-30      2120296.62  2110335.82  2120296.62  2110339.44    3066.8   \n",
       "2022-10-31      2110327.85  2105844.24  2110327.85  2107272.64         -   \n",
       "2022-11-01      2107412.12  2107412.12  2114232.64  2111083.35  10909.52   \n",
       "2022-11-02      2111539.79  2100173.81  2111539.79  2100173.83   1701.87   \n",
       "2022-11-03      2098748.41  2098316.91  2099632.93  2098471.96   1701.87   \n",
       "\n",
       "                    Pc  year  month  day  \n",
       "تاریخ / میلادی                            \n",
       "2022-10-30      0.0015  2022     10   30  \n",
       "2022-10-31           -  2022     10   31  \n",
       "2022-11-01      0.0052  2022     11    1  \n",
       "2022-11-02      0.0008  2022     11    2  \n",
       "2022-11-03      0.0008  2022     11    3  "
      ]
     },
     "execution_count": 20,
     "metadata": {},
     "output_type": "execute_result"
    }
   ],
   "source": [
    "df.tail()"
   ]
  },
  {
   "cell_type": "code",
   "execution_count": 21,
   "metadata": {},
   "outputs": [],
   "source": [
    "df.replace('-', np.nan, inplace=True)"
   ]
  },
  {
   "cell_type": "code",
   "execution_count": 22,
   "metadata": {},
   "outputs": [
    {
     "data": {
      "text/html": [
       "<div>\n",
       "<style scoped>\n",
       "    .dataframe tbody tr th:only-of-type {\n",
       "        vertical-align: middle;\n",
       "    }\n",
       "\n",
       "    .dataframe tbody tr th {\n",
       "        vertical-align: top;\n",
       "    }\n",
       "\n",
       "    .dataframe thead th {\n",
       "        text-align: right;\n",
       "    }\n",
       "</style>\n",
       "<table border=\"1\" class=\"dataframe\">\n",
       "  <thead>\n",
       "    <tr style=\"text-align: right;\">\n",
       "      <th></th>\n",
       "      <th>Open</th>\n",
       "      <th>Min</th>\n",
       "      <th>Max</th>\n",
       "      <th>Closed</th>\n",
       "      <th>Rc</th>\n",
       "      <th>Pc</th>\n",
       "      <th>year</th>\n",
       "      <th>month</th>\n",
       "      <th>day</th>\n",
       "    </tr>\n",
       "    <tr>\n",
       "      <th>تاریخ / میلادی</th>\n",
       "      <th></th>\n",
       "      <th></th>\n",
       "      <th></th>\n",
       "      <th></th>\n",
       "      <th></th>\n",
       "      <th></th>\n",
       "      <th></th>\n",
       "      <th></th>\n",
       "      <th></th>\n",
       "    </tr>\n",
       "  </thead>\n",
       "  <tbody>\n",
       "    <tr>\n",
       "      <th>2022-10-30</th>\n",
       "      <td>2120296.62</td>\n",
       "      <td>2110335.82</td>\n",
       "      <td>2120296.62</td>\n",
       "      <td>2110339.44</td>\n",
       "      <td>3066.80</td>\n",
       "      <td>0.0015</td>\n",
       "      <td>2022</td>\n",
       "      <td>10</td>\n",
       "      <td>30</td>\n",
       "    </tr>\n",
       "    <tr>\n",
       "      <th>2022-10-31</th>\n",
       "      <td>2110327.85</td>\n",
       "      <td>2105844.24</td>\n",
       "      <td>2110327.85</td>\n",
       "      <td>2107272.64</td>\n",
       "      <td>NaN</td>\n",
       "      <td>NaN</td>\n",
       "      <td>2022</td>\n",
       "      <td>10</td>\n",
       "      <td>31</td>\n",
       "    </tr>\n",
       "    <tr>\n",
       "      <th>2022-11-01</th>\n",
       "      <td>2107412.12</td>\n",
       "      <td>2107412.12</td>\n",
       "      <td>2114232.64</td>\n",
       "      <td>2111083.35</td>\n",
       "      <td>10909.52</td>\n",
       "      <td>0.0052</td>\n",
       "      <td>2022</td>\n",
       "      <td>11</td>\n",
       "      <td>1</td>\n",
       "    </tr>\n",
       "    <tr>\n",
       "      <th>2022-11-02</th>\n",
       "      <td>2111539.79</td>\n",
       "      <td>2100173.81</td>\n",
       "      <td>2111539.79</td>\n",
       "      <td>2100173.83</td>\n",
       "      <td>1701.87</td>\n",
       "      <td>0.0008</td>\n",
       "      <td>2022</td>\n",
       "      <td>11</td>\n",
       "      <td>2</td>\n",
       "    </tr>\n",
       "    <tr>\n",
       "      <th>2022-11-03</th>\n",
       "      <td>2098748.41</td>\n",
       "      <td>2098316.91</td>\n",
       "      <td>2099632.93</td>\n",
       "      <td>2098471.96</td>\n",
       "      <td>1701.87</td>\n",
       "      <td>0.0008</td>\n",
       "      <td>2022</td>\n",
       "      <td>11</td>\n",
       "      <td>3</td>\n",
       "    </tr>\n",
       "  </tbody>\n",
       "</table>\n",
       "</div>"
      ],
      "text/plain": [
       "                      Open         Min         Max      Closed        Rc  \\\n",
       "تاریخ / میلادی                                                             \n",
       "2022-10-30      2120296.62  2110335.82  2120296.62  2110339.44   3066.80   \n",
       "2022-10-31      2110327.85  2105844.24  2110327.85  2107272.64       NaN   \n",
       "2022-11-01      2107412.12  2107412.12  2114232.64  2111083.35  10909.52   \n",
       "2022-11-02      2111539.79  2100173.81  2111539.79  2100173.83   1701.87   \n",
       "2022-11-03      2098748.41  2098316.91  2099632.93  2098471.96   1701.87   \n",
       "\n",
       "                    Pc  year  month  day  \n",
       "تاریخ / میلادی                            \n",
       "2022-10-30      0.0015  2022     10   30  \n",
       "2022-10-31         NaN  2022     10   31  \n",
       "2022-11-01      0.0052  2022     11    1  \n",
       "2022-11-02      0.0008  2022     11    2  \n",
       "2022-11-03      0.0008  2022     11    3  "
      ]
     },
     "execution_count": 22,
     "metadata": {},
     "output_type": "execute_result"
    }
   ],
   "source": [
    "df.tail()"
   ]
  },
  {
   "cell_type": "code",
   "execution_count": 23,
   "metadata": {},
   "outputs": [
    {
     "data": {
      "text/plain": [
       "Open       0\n",
       "Min        0\n",
       "Max        0\n",
       "Closed     0\n",
       "Rc         6\n",
       "Pc        36\n",
       "year       0\n",
       "month      0\n",
       "day        0\n",
       "dtype: int64"
      ]
     },
     "execution_count": 23,
     "metadata": {},
     "output_type": "execute_result"
    }
   ],
   "source": [
    "df.isna().sum()"
   ]
  },
  {
   "cell_type": "code",
   "execution_count": 24,
   "metadata": {},
   "outputs": [
    {
     "data": {
      "text/plain": [
       "0.032432432432432434"
      ]
     },
     "execution_count": 24,
     "metadata": {},
     "output_type": "execute_result"
    }
   ],
   "source": [
    "36/len(df)"
   ]
  },
  {
   "cell_type": "code",
   "execution_count": 25,
   "metadata": {},
   "outputs": [
    {
     "data": {
      "text/plain": [
       "<AxesSubplot: >"
      ]
     },
     "execution_count": 25,
     "metadata": {},
     "output_type": "execute_result"
    },
    {
     "data": {
      "image/png": "[encoded data removed]",
      "text/plain": [
       "<Figure size 640x480 with 1 Axes>"
      ]
     },
     "metadata": {},
     "output_type": "display_data"
    }
   ],
   "source": [
    "df.boxplot()"
   ]
  },
  {
   "cell_type": "code",
   "execution_count": 26,
   "metadata": {},
   "outputs": [],
   "source": [
    "df.dropna(subset=['Rc', 'Pc'], inplace=True)"
   ]
  },
  {
   "cell_type": "code",
   "execution_count": 27,
   "metadata": {},
   "outputs": [
    {
     "data": {
      "text/plain": [
       "<AxesSubplot: >"
      ]
     },
     "execution_count": 27,
     "metadata": {},
     "output_type": "execute_result"
    }
   ],
   "source": [
    "df.boxplot()"
   ]
  },
  {
   "cell_type": "code",
   "execution_count": 28,
   "metadata": {},
   "outputs": [
    {
     "data": {
      "text/plain": [
       "(1074, 9)"
      ]
     },
     "execution_count": 28,
     "metadata": {},
     "output_type": "execute_result"
    }
   ],
   "source": [
    "df.shape"
   ]
  },
  {
   "cell_type": "code",
   "execution_count": 29,
   "metadata": {},
   "outputs": [
    {
     "data": {
      "text/plain": [
       "<AxesSubplot: >"
      ]
     },
     "execution_count": 29,
     "metadata": {},
     "output_type": "execute_result"
    }
   ],
   "source": [
    "df[\"Open\"].hist()"
   ]
  },
  {
   "cell_type": "code",
   "execution_count": 30,
   "metadata": {},
   "outputs": [],
   "source": [
    "df[\"log_open\"] = np.log(df[\"Open\"])"
   ]
  },
  {
   "cell_type": "code",
   "execution_count": 31,
   "metadata": {},
   "outputs": [
    {
     "data": {
      "text/plain": [
       "تاریخ / میلادی\n",
       "2019-03-24    12.093956\n",
       "2019-03-25    12.098610\n",
       "2019-03-26    12.100918\n",
       "2019-03-29    12.111245\n",
       "2019-03-30    12.133502\n",
       "                ...    \n",
       "2022-10-29    14.570518\n",
       "2022-10-30    14.567067\n",
       "2022-11-01    14.560971\n",
       "2022-11-02    14.562928\n",
       "2022-11-03    14.556852\n",
       "Name: log_open, Length: 1074, dtype: float64"
      ]
     },
     "execution_count": 31,
     "metadata": {},
     "output_type": "execute_result"
    }
   ],
   "source": [
    "df[\"log_open\"]"
   ]
  },
  {
   "cell_type": "code",
   "execution_count": 32,
   "metadata": {},
   "outputs": [
    {
     "data": {
      "text/html": [
       "<div>\n",
       "<style scoped>\n",
       "    .dataframe tbody tr th:only-of-type {\n",
       "        vertical-align: middle;\n",
       "    }\n",
       "\n",
       "    .dataframe tbody tr th {\n",
       "        vertical-align: top;\n",
       "    }\n",
       "\n",
       "    .dataframe thead th {\n",
       "        text-align: right;\n",
       "    }\n",
       "</style>\n",
       "<table border=\"1\" class=\"dataframe\">\n",
       "  <thead>\n",
       "    <tr style=\"text-align: right;\">\n",
       "      <th></th>\n",
       "      <th>Min</th>\n",
       "      <th>Max</th>\n",
       "      <th>Closed</th>\n",
       "      <th>Rc</th>\n",
       "      <th>Pc</th>\n",
       "      <th>year</th>\n",
       "      <th>month</th>\n",
       "      <th>day</th>\n",
       "    </tr>\n",
       "    <tr>\n",
       "      <th>تاریخ / میلادی</th>\n",
       "      <th></th>\n",
       "      <th></th>\n",
       "      <th></th>\n",
       "      <th></th>\n",
       "      <th></th>\n",
       "      <th></th>\n",
       "      <th></th>\n",
       "      <th></th>\n",
       "    </tr>\n",
       "  </thead>\n",
       "  <tbody>\n",
       "    <tr>\n",
       "      <th>2019-03-24</th>\n",
       "      <td>178743.0</td>\n",
       "      <td>179194.0</td>\n",
       "      <td>179194.0</td>\n",
       "      <td>572.0</td>\n",
       "      <td>0.0032</td>\n",
       "      <td>2019</td>\n",
       "      <td>3</td>\n",
       "      <td>24</td>\n",
       "    </tr>\n",
       "    <tr>\n",
       "      <th>2019-03-25</th>\n",
       "      <td>179444.0</td>\n",
       "      <td>179847.0</td>\n",
       "      <td>179766.0</td>\n",
       "      <td>1776.0</td>\n",
       "      <td>0.0099</td>\n",
       "      <td>2019</td>\n",
       "      <td>3</td>\n",
       "      <td>25</td>\n",
       "    </tr>\n",
       "    <tr>\n",
       "      <th>2019-03-26</th>\n",
       "      <td>180037.0</td>\n",
       "      <td>181542.0</td>\n",
       "      <td>181542.0</td>\n",
       "      <td>3816.0</td>\n",
       "      <td>0.0210</td>\n",
       "      <td>2019</td>\n",
       "      <td>3</td>\n",
       "      <td>26</td>\n",
       "    </tr>\n",
       "    <tr>\n",
       "      <th>2019-03-29</th>\n",
       "      <td>181906.0</td>\n",
       "      <td>185358.0</td>\n",
       "      <td>185358.0</td>\n",
       "      <td>77.0</td>\n",
       "      <td>0.0004</td>\n",
       "      <td>2019</td>\n",
       "      <td>3</td>\n",
       "      <td>29</td>\n",
       "    </tr>\n",
       "    <tr>\n",
       "      <th>2019-03-30</th>\n",
       "      <td>185281.0</td>\n",
       "      <td>186783.0</td>\n",
       "      <td>185281.0</td>\n",
       "      <td>1254.0</td>\n",
       "      <td>0.0068</td>\n",
       "      <td>2019</td>\n",
       "      <td>3</td>\n",
       "      <td>30</td>\n",
       "    </tr>\n",
       "  </tbody>\n",
       "</table>\n",
       "</div>"
      ],
      "text/plain": [
       "                     Min       Max    Closed      Rc      Pc  year  month  day\n",
       "تاریخ / میلادی                                                                \n",
       "2019-03-24      178743.0  179194.0  179194.0   572.0  0.0032  2019      3   24\n",
       "2019-03-25      179444.0  179847.0  179766.0  1776.0  0.0099  2019      3   25\n",
       "2019-03-26      180037.0  181542.0  181542.0  3816.0  0.0210  2019      3   26\n",
       "2019-03-29      181906.0  185358.0  185358.0    77.0  0.0004  2019      3   29\n",
       "2019-03-30      185281.0  186783.0  185281.0  1254.0  0.0068  2019      3   30"
      ]
     },
     "execution_count": 32,
     "metadata": {},
     "output_type": "execute_result"
    }
   ],
   "source": [
    "features =df.drop(columns=[\"Open\", \"log_open\"])\n",
    "features.head()"
   ]
  },
  {
   "cell_type": "code",
   "execution_count": 33,
   "metadata": {},
   "outputs": [],
   "source": [
    "y = df.loc[:,\"Open\"]\n",
    "y_log = df.loc[:,\"log_open\"]"
   ]
  },
  {
   "cell_type": "code",
   "execution_count": 34,
   "metadata": {},
   "outputs": [],
   "source": [
    "x_train, x_test, y_train, y_test = train_test_split(features, y_log, test_size=0.2,shuffle= False , random_state=42)\n",
    "\n",
    "# Standardizing the features\n",
    "scaler = StandardScaler()\n",
    "x_train_scaled = scaler.fit_transform(x_train)\n",
    "x_test_scaled = scaler.transform(x_test)"
   ]
  },
  {
   "cell_type": "markdown",
   "metadata": {},
   "source": [
    "# LSTM"
   ]
  },
  {
   "cell_type": "markdown",
   "metadata": {},
   "source": [
    "## PCA"
   ]
  },
  {
   "cell_type": "code",
   "execution_count": 35,
   "metadata": {},
   "outputs": [
    {
     "name": "stdout",
     "output_type": "stream",
     "text": [
      "Epoch 1/50\n",
      "27/27 [==============================] - 5s 37ms/step - loss: 186.3436 - val_loss: 203.5779\n",
      "Epoch 2/50\n",
      "27/27 [==============================] - 0s 4ms/step - loss: 179.1766 - val_loss: 168.0640\n",
      "Epoch 3/50\n",
      "27/27 [==============================] - 0s 4ms/step - loss: 145.2456 - val_loss: 54.0881\n",
      "Epoch 4/50\n",
      "27/27 [==============================] - 0s 4ms/step - loss: 71.0045 - val_loss: 9.8971\n",
      "Epoch 5/50\n",
      "27/27 [==============================] - 0s 5ms/step - loss: 17.2539 - val_loss: 1.8713\n",
      "Epoch 6/50\n",
      "27/27 [==============================] - 0s 4ms/step - loss: 2.5034 - val_loss: 0.2522\n",
      "Epoch 7/50\n",
      "27/27 [==============================] - 0s 4ms/step - loss: 0.6686 - val_loss: 0.0261\n",
      "Epoch 8/50\n",
      "27/27 [==============================] - 0s 4ms/step - loss: 0.4255 - val_loss: 0.0087\n",
      "Epoch 9/50\n",
      "27/27 [==============================] - 0s 4ms/step - loss: 0.3675 - val_loss: 0.0122\n",
      "Epoch 10/50\n",
      "27/27 [==============================] - 0s 4ms/step - loss: 0.3719 - val_loss: 0.0130\n",
      "Epoch 11/50\n",
      "27/27 [==============================] - 0s 4ms/step - loss: 0.3144 - val_loss: 0.0134\n",
      "Epoch 12/50\n",
      "27/27 [==============================] - 0s 4ms/step - loss: 0.3199 - val_loss: 0.0138\n",
      "Epoch 13/50\n",
      "27/27 [==============================] - 0s 4ms/step - loss: 0.3502 - val_loss: 0.0135\n",
      "Epoch 13: early stopping\n",
      "7/7 [==============================] - 0s 2ms/step - loss: 0.0135\n",
      "Test Loss: 0.013535916805267334\n"
     ]
    }
   ],
   "source": [
    "pca = PCA(n_components=0.95 ,random_state= 42)  # Retain 95% of variance\n",
    "x_train_pca = pca.fit_transform(x_train_scaled)\n",
    "x_test_pca = pca.transform(x_test_scaled)\n",
    "# Reshape data for LSTM \n",
    "x_train_pca = np.reshape(x_train_pca, (x_train_pca.shape[0], 1, x_train_pca.shape[1]))\n",
    "x_test_pca = np.reshape(x_test_pca, (x_test_pca.shape[0], 1, x_test_pca.shape[1]))\n",
    "# Define input layer\n",
    "inputs = Input(shape=(x_train_pca.shape[1], x_train_pca.shape[2]))\n",
    "\n",
    "# LSTM layers with dropout regularization\n",
    "lstm1 = LSTM(units=50, return_sequences=True)(inputs)\n",
    "dropout1 = Dropout(0.2)(lstm1)\n",
    "lstm2 = LSTM(units=50, return_sequences=True)(dropout1)\n",
    "dropout2 = Dropout(0.2)(lstm2)\n",
    "\n",
    "# LSTM output layer\n",
    "lstm_output = LSTM(units=50)(dropout2)\n",
    "\n",
    "# Output layer for regression\n",
    "outputs = Dense(units=1)(lstm_output)\n",
    "\n",
    "# Define model\n",
    "model = Model(inputs=inputs, outputs=outputs)\n",
    "\n",
    "# Compile model\n",
    "model.compile(optimizer='adam', loss='mean_squared_error')\n",
    "# Early stopping\n",
    "early_stopping = EarlyStopping(monitor='val_loss', patience=5, verbose=1)\n",
    "# Train model with validation data\n",
    "history = model.fit(x_train_pca, y_train, epochs=50, batch_size=32, verbose=1, validation_data=(x_test_pca, y_test) , callbacks=[early_stopping])\n",
    "\n",
    "# Evaluate model\n",
    "loss_lstm_pca = model.evaluate(x_test_pca, y_test)\n",
    "print(\"Test Loss:\", loss_lstm_pca)"
   ]
  },
  {
   "cell_type": "code",
   "execution_count": 36,
   "metadata": {},
   "outputs": [
    {
     "data": {
      "image/png": "[encoded data removed]",
      "text/plain": [
       "<Figure size 640x480 with 1 Axes>"
      ]
     },
     "metadata": {},
     "output_type": "display_data"
    }
   ],
   "source": [
    "# Plot training and validation loss\n",
    "plt.plot(history.history['loss'], label='Training Loss')\n",
    "plt.plot(history.history['val_loss'], label='Validation Loss')\n",
    "plt.title('Training and Validation Loss')\n",
    "plt.xlabel('Epoch')\n",
    "plt.ylabel('Loss')\n",
    "plt.legend()\n",
    "plt.show()"
   ]
  },
  {
   "cell_type": "code",
   "execution_count": 37,
   "metadata": {},
   "outputs": [
    {
     "name": "stdout",
     "output_type": "stream",
     "text": [
      "7/7 [==============================] - 1s 3ms/step\n"
     ]
    },
    {
     "data": {
      "image/png": "[encoded data removed]",
      "text/plain": [
       "<Figure size 640x480 with 1 Axes>"
      ]
     },
     "metadata": {},
     "output_type": "display_data"
    }
   ],
   "source": [
    "# Predictions\n",
    "y_pred_lstm_pca = model.predict(x_test_pca)\n",
    "\n",
    "# Plot actual vs predicted values\n",
    "plt.scatter(y_test, y_pred_lstm_pca)\n",
    "plt.xlabel('Actual')\n",
    "plt.ylabel('Predicted')\n",
    "plt.title('Actual vs Predicted')\n",
    "\n",
    "# Add abline (identity line)\n",
    "plt.plot(y_test, y_test, color='red')  # abline with slope 1 and intercept 0\n",
    "plt.show()"
   ]
  },
  {
   "cell_type": "code",
   "execution_count": 38,
   "metadata": {},
   "outputs": [
    {
     "name": "stdout",
     "output_type": "stream",
     "text": [
      "RMSE: 0.11634396919651317\n"
     ]
    }
   ],
   "source": [
    "# Calculate RMSE\n",
    "rmse_lstm_pca = np.sqrt(mean_squared_error(y_test, y_pred_lstm_pca))\n",
    "print(\"RMSE:\", rmse_lstm_pca)"
   ]
  },
  {
   "cell_type": "code",
   "execution_count": 39,
   "metadata": {},
   "outputs": [
    {
     "name": "stdout",
     "output_type": "stream",
     "text": [
      "MAE: 0.09439942734701502\n"
     ]
    }
   ],
   "source": [
    "mae_lstm_pca = mae(y_test, y_pred_lstm_pca)\n",
    "print(\"MAE:\", mae_lstm_pca)"
   ]
  },
  {
   "cell_type": "markdown",
   "metadata": {},
   "source": [
    "## SVD"
   ]
  },
  {
   "cell_type": "code",
   "execution_count": 40,
   "metadata": {},
   "outputs": [
    {
     "name": "stdout",
     "output_type": "stream",
     "text": [
      "Epoch 1/50\n",
      "27/27 [==============================] - 4s 40ms/step - loss: 186.1710 - val_loss: 203.5170\n",
      "Epoch 2/50\n",
      "27/27 [==============================] - 0s 4ms/step - loss: 178.2340 - val_loss: 173.0791\n",
      "Epoch 3/50\n",
      "27/27 [==============================] - 0s 4ms/step - loss: 142.0466 - val_loss: 64.0057\n",
      "Epoch 4/50\n",
      "27/27 [==============================] - 0s 4ms/step - loss: 56.4571 - val_loss: 8.2994\n",
      "Epoch 5/50\n",
      "27/27 [==============================] - 0s 4ms/step - loss: 8.6073 - val_loss: 0.9366\n",
      "Epoch 6/50\n",
      "27/27 [==============================] - 0s 4ms/step - loss: 1.3971 - val_loss: 0.0904\n",
      "Epoch 7/50\n",
      "27/27 [==============================] - 0s 4ms/step - loss: 0.6285 - val_loss: 0.0066\n",
      "Epoch 8/50\n",
      "27/27 [==============================] - 0s 4ms/step - loss: 0.4740 - val_loss: 0.0097\n",
      "Epoch 9/50\n",
      "27/27 [==============================] - 0s 4ms/step - loss: 0.5144 - val_loss: 0.0192\n",
      "Epoch 10/50\n",
      "27/27 [==============================] - 0s 4ms/step - loss: 0.4086 - val_loss: 0.0207\n",
      "Epoch 11/50\n",
      "27/27 [==============================] - 0s 4ms/step - loss: 0.4170 - val_loss: 0.0229\n",
      "Epoch 12/50\n",
      "27/27 [==============================] - 0s 4ms/step - loss: 0.3765 - val_loss: 0.0228\n",
      "Epoch 12: early stopping\n",
      "7/7 [==============================] - 0s 3ms/step - loss: 0.0228\n",
      "Test Loss: 0.022776927798986435\n"
     ]
    }
   ],
   "source": [
    "# Apply Singular Value Decomposition (SVD) for dimensionality reduction\n",
    "svd = TruncatedSVD(n_components=4 ,random_state= 42) \n",
    "X_train_svd = svd.fit_transform(x_train_scaled)\n",
    "X_test_svd = svd.transform(x_test_scaled)\n",
    "\n",
    "# Reshape data for LSTM (assuming 2D input)\n",
    "X_train_svd = np.reshape(X_train_svd, (X_train_svd.shape[0], 1, X_train_svd.shape[1]))\n",
    "X_test_svd = np.reshape(X_test_svd, (X_test_svd.shape[0], 1, X_test_svd.shape[1]))\n",
    "\n",
    "inputs = Input(shape=(X_train_svd.shape[1], X_train_svd.shape[2]))\n",
    "\n",
    "# LSTM layers with dropout regularization\n",
    "lstm1 = LSTM(units=50, return_sequences=True)(inputs)\n",
    "dropout1 = Dropout(0.2)(lstm1)\n",
    "lstm2 = LSTM(units=50, return_sequences=True)(dropout1)\n",
    "dropout2 = Dropout(0.2)(lstm2)\n",
    "\n",
    "# LSTM output layer\n",
    "lstm_output = LSTM(units=50)(dropout2)\n",
    "\n",
    "# Output layer for regression\n",
    "outputs = Dense(units=1)(lstm_output)\n",
    "\n",
    "# Define model\n",
    "model = Model(inputs=inputs, outputs=outputs)\n",
    "\n",
    "# Compile model\n",
    "model.compile(optimizer='adam', loss='mean_squared_error')\n",
    "# Early stopping\n",
    "early_stopping = EarlyStopping(monitor='val_loss', patience=5, verbose=1)\n",
    "# Train model with validation data\n",
    "history = model.fit(X_train_svd, y_train, epochs=50, batch_size=32, verbose=1, validation_data=(X_test_svd, y_test), callbacks=[early_stopping])\n",
    "\n",
    "# Evaluate model\n",
    "loss_lstm_svd = model.evaluate(X_test_svd, y_test)\n",
    "print(\"Test Loss:\", loss_lstm_svd )\n"
   ]
  },
  {
   "cell_type": "code",
   "execution_count": 41,
   "metadata": {},
   "outputs": [
    {
     "data": {
      "image/png": "[encoded data removed]",
      "text/plain": [
       "<Figure size 640x480 with 1 Axes>"
      ]
     },
     "metadata": {},
     "output_type": "display_data"
    }
   ],
   "source": [
    "# Plot training and validation loss\n",
    "plt.plot(history.history['loss'], label='Training Loss')\n",
    "plt.plot(history.history['val_loss'], label='Validation Loss')\n",
    "plt.title('Training and Validation Loss')\n",
    "plt.xlabel('Epoch')\n",
    "plt.ylabel('Loss')\n",
    "plt.legend()\n",
    "plt.show()"
   ]
  },
  {
   "cell_type": "code",
   "execution_count": 42,
   "metadata": {},
   "outputs": [
    {
     "name": "stdout",
     "output_type": "stream",
     "text": [
      "7/7 [==============================] - 1s 2ms/step\n"
     ]
    },
    {
     "data": {
      "image/png": "[encoded data removed]",
      "text/plain": [
       "<Figure size 640x480 with 1 Axes>"
      ]
     },
     "metadata": {},
     "output_type": "display_data"
    }
   ],
   "source": [
    "# Predictions\n",
    "y_pred_lstm_svd = model.predict(X_test_svd)\n",
    "\n",
    "# Plot actual vs predicted values\n",
    "plt.scatter(y_test, y_pred_lstm_svd)\n",
    "plt.xlabel('Actual')\n",
    "plt.ylabel('Predicted')\n",
    "plt.title('Actual vs Predicted')\n",
    "\n",
    "# Add abline (identity line)\n",
    "plt.plot(y_test, y_test, color='red')  # abline with slope 1 and intercept 0\n",
    "plt.show()"
   ]
  },
  {
   "cell_type": "code",
   "execution_count": 44,
   "metadata": {},
   "outputs": [
    {
     "name": "stdout",
     "output_type": "stream",
     "text": [
      "RMSE: 0.1509201585466958\n"
     ]
    }
   ],
   "source": [
    "# Calculate RMSE\n",
    "rmse_lstm_svd = np.sqrt(mean_squared_error(y_test, y_pred_lstm_svd))\n",
    "print(\"RMSE:\", rmse_lstm_svd)"
   ]
  },
  {
   "cell_type": "code",
   "execution_count": 45,
   "metadata": {},
   "outputs": [
    {
     "name": "stdout",
     "output_type": "stream",
     "text": [
      "MAE: 0.12010574464860498\n"
     ]
    }
   ],
   "source": [
    "mae_lstm_svd = mae(y_test, y_pred_lstm_svd)\n",
    "print(\"MAE:\", mae_lstm_svd)"
   ]
  },
  {
   "cell_type": "markdown",
   "metadata": {},
   "source": [
    "## GRP"
   ]
  },
  {
   "cell_type": "code",
   "execution_count": 46,
   "metadata": {},
   "outputs": [
    {
     "name": "stdout",
     "output_type": "stream",
     "text": [
      "Epoch 1/50\n",
      "27/27 [==============================] - 5s 36ms/step - loss: 186.2881 - val_loss: 205.1054\n",
      "Epoch 2/50\n",
      "27/27 [==============================] - 0s 6ms/step - loss: 178.9495 - val_loss: 182.2616\n",
      "Epoch 3/50\n",
      "27/27 [==============================] - 0s 4ms/step - loss: 141.9352 - val_loss: 77.1758\n",
      "Epoch 4/50\n",
      "27/27 [==============================] - 0s 4ms/step - loss: 55.8897 - val_loss: 9.6902\n",
      "Epoch 5/50\n",
      "27/27 [==============================] - 0s 4ms/step - loss: 10.1700 - val_loss: 1.0498\n",
      "Epoch 6/50\n",
      "27/27 [==============================] - 0s 5ms/step - loss: 2.2357 - val_loss: 0.1165\n",
      "Epoch 7/50\n",
      "27/27 [==============================] - 0s 5ms/step - loss: 1.2940 - val_loss: 0.0279\n",
      "Epoch 8/50\n",
      "27/27 [==============================] - 0s 4ms/step - loss: 1.1711 - val_loss: 0.0177\n",
      "Epoch 9/50\n",
      "27/27 [==============================] - 0s 5ms/step - loss: 1.0434 - val_loss: 0.0199\n",
      "Epoch 10/50\n",
      "27/27 [==============================] - 0s 5ms/step - loss: 0.9375 - val_loss: 0.0266\n",
      "Epoch 11/50\n",
      "27/27 [==============================] - 0s 5ms/step - loss: 0.8758 - val_loss: 0.0347\n",
      "Epoch 12/50\n",
      "27/27 [==============================] - 0s 5ms/step - loss: 0.8136 - val_loss: 0.0462\n",
      "Epoch 13/50\n",
      "27/27 [==============================] - 0s 6ms/step - loss: 0.7723 - val_loss: 0.0584\n",
      "Epoch 13: early stopping\n",
      "7/7 [==============================] - 0s 3ms/step - loss: 0.0584\n",
      "Test Loss: 0.058442387729883194\n"
     ]
    }
   ],
   "source": [
    "# Apply Gaussian Random Projection for dimensionality reduction\n",
    "grp = GaussianRandomProjection(n_components=4,random_state= 42) \n",
    "X_train_grp = grp.fit_transform(x_train_scaled)\n",
    "X_test_grp = grp.transform(x_test_scaled)\n",
    "\n",
    "# Reshape data for LSTM (assuming 2D input)\n",
    "X_train_grp = np.reshape(X_train_grp, (X_train_grp.shape[0], 1, X_train_grp.shape[1]))\n",
    "X_test_grp = np.reshape(X_test_grp, (X_test_grp.shape[0], 1, X_test_grp.shape[1]))\n",
    "\n",
    "inputs = Input(shape=(X_train_grp.shape[1], X_train_grp.shape[2]))\n",
    "\n",
    "# LSTM layers with dropout regularization\n",
    "lstm1 = LSTM(units=50, return_sequences=True)(inputs)\n",
    "dropout1 = Dropout(0.2)(lstm1)\n",
    "lstm2 = LSTM(units=50, return_sequences=True)(dropout1)\n",
    "dropout2 = Dropout(0.2)(lstm2)\n",
    "\n",
    "# LSTM output layer\n",
    "lstm_output = LSTM(units=50)(dropout2)\n",
    "\n",
    "# Output layer for regression\n",
    "outputs = Dense(units=1)(lstm_output)\n",
    "\n",
    "# Define model\n",
    "model = Model(inputs=inputs, outputs=outputs)\n",
    "\n",
    "# Compile model\n",
    "model.compile(optimizer='adam', loss='mean_squared_error')\n",
    "# Early stopping\n",
    "early_stopping = EarlyStopping(monitor='val_loss', patience=5, verbose=1)\n",
    "# Train model with validation data\n",
    "history = model.fit(X_train_grp, y_train, epochs=50, batch_size=32, verbose=1, validation_data=(X_test_grp, y_test), callbacks=[early_stopping])\n",
    "\n",
    "# Evaluate model\n",
    "loss_lstm_grp = model.evaluate(X_test_grp, y_test)\n",
    "print(\"Test Loss:\", loss_lstm_grp)"
   ]
  },
  {
   "cell_type": "code",
   "execution_count": 47,
   "metadata": {},
   "outputs": [
    {
     "data": {
      "image/png": "[encoded data removed]",
      "text/plain": [
       "<Figure size 640x480 with 1 Axes>"
      ]
     },
     "metadata": {},
     "output_type": "display_data"
    }
   ],
   "source": [
    "# Plot training and validation loss\n",
    "plt.plot(history.history['loss'], label='Training Loss')\n",
    "plt.plot(history.history['val_loss'], label='Validation Loss')\n",
    "plt.title('Training and Validation Loss')\n",
    "plt.xlabel('Epoch')\n",
    "plt.ylabel('Loss')\n",
    "plt.legend()\n",
    "plt.show()"
   ]
  },
  {
   "cell_type": "code",
   "execution_count": 48,
   "metadata": {},
   "outputs": [
    {
     "name": "stdout",
     "output_type": "stream",
     "text": [
      "7/7 [==============================] - 1s 3ms/step\n"
     ]
    },
    {
     "data": {
      "image/png": "[encoded data removed]",
      "text/plain": [
       "<Figure size 640x480 with 1 Axes>"
      ]
     },
     "metadata": {},
     "output_type": "display_data"
    }
   ],
   "source": [
    "# Predictions\n",
    "y_pred_lstm_grp = model.predict(X_test_grp)\n",
    "\n",
    "# Plot actual vs predicted values\n",
    "plt.scatter(y_test, y_pred_lstm_grp)\n",
    "plt.xlabel('Actual')\n",
    "plt.ylabel('Predicted')\n",
    "plt.title('Actual vs Predicted')\n",
    "\n",
    "# Add abline (identity line)\n",
    "plt.plot(y_test, y_test, color='red')  # abline with slope 1 and intercept 0\n",
    "plt.show()"
   ]
  },
  {
   "cell_type": "code",
   "execution_count": 49,
   "metadata": {},
   "outputs": [
    {
     "name": "stdout",
     "output_type": "stream",
     "text": [
      "RMSE: 0.24174864670657403\n"
     ]
    }
   ],
   "source": [
    "# Calculate RMSE\n",
    "rmse_lstm_grp = np.sqrt(mean_squared_error(y_test, y_pred_lstm_grp))\n",
    "print(\"RMSE:\", rmse_lstm_grp)"
   ]
  },
  {
   "cell_type": "code",
   "execution_count": 50,
   "metadata": {},
   "outputs": [
    {
     "name": "stdout",
     "output_type": "stream",
     "text": [
      "MAE: 0.22294696251476098\n"
     ]
    }
   ],
   "source": [
    "mae_lstm_grp = mae(y_test, y_pred_lstm_grp)\n",
    "print(\"MAE:\", mae_lstm_grp)"
   ]
  },
  {
   "cell_type": "markdown",
   "metadata": {},
   "source": [
    "# RNN"
   ]
  },
  {
   "cell_type": "markdown",
   "metadata": {},
   "source": [
    "## PCA"
   ]
  },
  {
   "cell_type": "code",
   "execution_count": 51,
   "metadata": {},
   "outputs": [
    {
     "name": "stdout",
     "output_type": "stream",
     "text": [
      "Epoch 1/50\n",
      "27/27 [==============================] - 2s 14ms/step - loss: 176.7389 - val_loss: 122.5240\n",
      "Epoch 2/50\n",
      "27/27 [==============================] - 0s 5ms/step - loss: 150.0157 - val_loss: 94.7274\n",
      "Epoch 3/50\n",
      "27/27 [==============================] - 0s 3ms/step - loss: 95.8502 - val_loss: 71.9943\n",
      "Epoch 4/50\n",
      "27/27 [==============================] - 0s 3ms/step - loss: 23.2079 - val_loss: 18.1610\n",
      "Epoch 5/50\n",
      "27/27 [==============================] - 0s 3ms/step - loss: 2.3943 - val_loss: 2.3231\n",
      "Epoch 6/50\n",
      "27/27 [==============================] - 0s 3ms/step - loss: 0.8213 - val_loss: 1.1490\n",
      "Epoch 7/50\n",
      "27/27 [==============================] - 0s 3ms/step - loss: 0.7705 - val_loss: 0.9433\n",
      "Epoch 8/50\n",
      "27/27 [==============================] - 0s 3ms/step - loss: 0.7536 - val_loss: 0.4720\n",
      "Epoch 9/50\n",
      "27/27 [==============================] - 0s 2ms/step - loss: 0.6134 - val_loss: 0.6348\n",
      "Epoch 10/50\n",
      "27/27 [==============================] - 0s 2ms/step - loss: 0.5367 - val_loss: 0.5822\n",
      "Epoch 11/50\n",
      "27/27 [==============================] - 0s 3ms/step - loss: 0.5534 - val_loss: 0.6045\n",
      "Epoch 12/50\n",
      "27/27 [==============================] - 0s 2ms/step - loss: 0.6435 - val_loss: 0.5807\n",
      "Epoch 13/50\n",
      "27/27 [==============================] - 0s 2ms/step - loss: 0.5355 - val_loss: 0.5633\n",
      "Epoch 13: early stopping\n",
      "7/7 [==============================] - 0s 1ms/step - loss: 0.5633\n",
      "Test Loss: 0.5632901191711426\n"
     ]
    }
   ],
   "source": [
    "# Define input layer\n",
    "inputs = Input(shape=(x_train_pca.shape[1], x_train_pca.shape[2]))\n",
    "\n",
    "# RNN layers with dropout regularization\n",
    "rnn1 = RNN(SimpleRNNCell(units=50), return_sequences=True)(inputs)\n",
    "dropout1 = Dropout(0.2)(rnn1)\n",
    "rnn2 = RNN(SimpleRNNCell(units=50), return_sequences=True)(dropout1)\n",
    "dropout2 = Dropout(0.2)(rnn2)\n",
    "\n",
    "# RNN output layer\n",
    "rnn_output = RNN(SimpleRNNCell(units=50))(dropout2)\n",
    "\n",
    "# Output layer for regression\n",
    "outputs = Dense(units=1)(rnn_output)\n",
    "\n",
    "# Define model\n",
    "model = Model(inputs=inputs, outputs=outputs)\n",
    "\n",
    "# Compile model\n",
    "model.compile(optimizer='adam', loss='mean_squared_error')\n",
    "\n",
    "# Early stopping\n",
    "early_stopping = EarlyStopping(monitor='val_loss', patience=5, verbose=1)\n",
    "\n",
    "# Train model with validation data\n",
    "history = model.fit(x_train_pca, y_train, epochs=50, batch_size=32, verbose=1, validation_data=(x_test_pca, y_test), callbacks=[early_stopping])\n",
    "\n",
    "# Evaluate model\n",
    "loss_rnn_pca = model.evaluate(x_test_pca, y_test)\n",
    "print(\"Test Loss:\", loss_rnn_pca)\n"
   ]
  },
  {
   "cell_type": "code",
   "execution_count": 52,
   "metadata": {},
   "outputs": [
    {
     "data": {
      "image/png": "[encoded data removed]",
      "text/plain": [
       "<Figure size 640x480 with 1 Axes>"
      ]
     },
     "metadata": {},
     "output_type": "display_data"
    }
   ],
   "source": [
    "# Plot training and validation loss\n",
    "plt.plot(history.history['loss'], label='Training Loss')\n",
    "plt.plot(history.history['val_loss'], label='Validation Loss')\n",
    "plt.title('Training and Validation Loss')\n",
    "plt.xlabel('Epoch')\n",
    "plt.ylabel('Loss')\n",
    "plt.legend()\n",
    "plt.show()"
   ]
  },
  {
   "cell_type": "code",
   "execution_count": 53,
   "metadata": {},
   "outputs": [
    {
     "name": "stdout",
     "output_type": "stream",
     "text": [
      "Epoch 1/50\n",
      "27/27 [==============================] - 5s 33ms/step - loss: 179.9292 - val_loss: 155.3023\n",
      "Epoch 2/50\n",
      "27/27 [==============================] - 0s 9ms/step - loss: 100.9782 - val_loss: 38.9490\n",
      "Epoch 3/50\n",
      "27/27 [==============================] - 0s 10ms/step - loss: 25.7833 - val_loss: 20.7656\n",
      "Epoch 4/50\n",
      "27/27 [==============================] - 0s 12ms/step - loss: 12.4988 - val_loss: 13.0451\n",
      "Epoch 5/50\n",
      "27/27 [==============================] - 0s 11ms/step - loss: 7.1645 - val_loss: 8.3654\n",
      "Epoch 6/50\n",
      "27/27 [==============================] - 0s 12ms/step - loss: 4.2066 - val_loss: 5.4087\n",
      "Epoch 7/50\n",
      "27/27 [==============================] - 0s 10ms/step - loss: 2.4562 - val_loss: 3.5333\n",
      "Epoch 8/50\n",
      "27/27 [==============================] - 0s 10ms/step - loss: 1.4853 - val_loss: 2.3786\n",
      "Epoch 9/50\n",
      "27/27 [==============================] - 0s 12ms/step - loss: 0.9845 - val_loss: 1.6655\n",
      "Epoch 10/50\n",
      "27/27 [==============================] - 0s 14ms/step - loss: 0.7442 - val_loss: 1.2304\n",
      "Epoch 11/50\n",
      "27/27 [==============================] - 0s 12ms/step - loss: 0.6043 - val_loss: 0.9655\n",
      "Epoch 12/50\n",
      "27/27 [==============================] - 0s 8ms/step - loss: 0.5574 - val_loss: 0.8105\n",
      "Epoch 13/50\n",
      "27/27 [==============================] - 0s 5ms/step - loss: 0.5209 - val_loss: 0.7104\n",
      "Epoch 14/50\n",
      "27/27 [==============================] - 0s 6ms/step - loss: 0.5098 - val_loss: 0.6479\n",
      "Epoch 15/50\n",
      "27/27 [==============================] - 0s 5ms/step - loss: 0.5065 - val_loss: 0.6134\n",
      "Epoch 16/50\n",
      "27/27 [==============================] - 0s 5ms/step - loss: 0.5083 - val_loss: 0.6035\n",
      "Epoch 17/50\n",
      "27/27 [==============================] - 0s 6ms/step - loss: 0.5031 - val_loss: 0.5910\n",
      "Epoch 18/50\n",
      "27/27 [==============================] - 0s 5ms/step - loss: 0.5034 - val_loss: 0.5828\n",
      "Epoch 19/50\n",
      "27/27 [==============================] - 0s 5ms/step - loss: 0.4982 - val_loss: 0.5792\n",
      "Epoch 20/50\n",
      "27/27 [==============================] - 0s 5ms/step - loss: 0.4947 - val_loss: 0.5758\n",
      "Epoch 21/50\n",
      "27/27 [==============================] - 0s 5ms/step - loss: 0.4890 - val_loss: 0.5666\n",
      "Epoch 22/50\n",
      "27/27 [==============================] - 0s 7ms/step - loss: 0.4903 - val_loss: 0.5642\n",
      "Epoch 23/50\n",
      "27/27 [==============================] - 0s 6ms/step - loss: 0.4756 - val_loss: 0.5736\n",
      "Epoch 24/50\n",
      "27/27 [==============================] - 0s 5ms/step - loss: 0.4665 - val_loss: 0.5702\n",
      "Epoch 25/50\n",
      "27/27 [==============================] - 0s 6ms/step - loss: 0.4528 - val_loss: 0.5451\n",
      "Epoch 26/50\n",
      "27/27 [==============================] - 0s 6ms/step - loss: 0.4315 - val_loss: 0.5361\n",
      "Epoch 27/50\n",
      "27/27 [==============================] - 0s 5ms/step - loss: 0.3831 - val_loss: 0.5079\n",
      "Epoch 28/50\n",
      "27/27 [==============================] - 0s 5ms/step - loss: 0.3064 - val_loss: 0.4635\n",
      "Epoch 29/50\n",
      "27/27 [==============================] - 0s 4ms/step - loss: 0.2113 - val_loss: 0.3691\n",
      "Epoch 30/50\n",
      "27/27 [==============================] - 0s 5ms/step - loss: 0.1587 - val_loss: 0.2735\n",
      "Epoch 31/50\n",
      "27/27 [==============================] - 0s 5ms/step - loss: 0.1170 - val_loss: 0.2160\n",
      "Epoch 32/50\n",
      "27/27 [==============================] - 0s 6ms/step - loss: 0.0837 - val_loss: 0.1774\n",
      "Epoch 33/50\n",
      "27/27 [==============================] - 0s 6ms/step - loss: 0.0741 - val_loss: 0.1565\n",
      "Epoch 34/50\n",
      "27/27 [==============================] - 0s 6ms/step - loss: 0.0763 - val_loss: 0.1380\n",
      "Epoch 35/50\n",
      "27/27 [==============================] - 0s 6ms/step - loss: 0.0699 - val_loss: 0.1312\n",
      "Epoch 36/50\n",
      "27/27 [==============================] - 0s 9ms/step - loss: 0.0596 - val_loss: 0.1315\n",
      "Epoch 37/50\n",
      "27/27 [==============================] - 0s 6ms/step - loss: 0.0563 - val_loss: 0.1293\n",
      "Epoch 38/50\n",
      "27/27 [==============================] - 0s 6ms/step - loss: 0.0592 - val_loss: 0.1286\n",
      "Epoch 39/50\n",
      "27/27 [==============================] - 0s 6ms/step - loss: 0.0540 - val_loss: 0.1303\n",
      "Epoch 40/50\n",
      "27/27 [==============================] - 0s 6ms/step - loss: 0.0542 - val_loss: 0.1284\n",
      "Epoch 41/50\n",
      "27/27 [==============================] - 0s 4ms/step - loss: 0.0439 - val_loss: 0.1277\n",
      "Epoch 42/50\n",
      "27/27 [==============================] - 0s 4ms/step - loss: 0.0513 - val_loss: 0.1257\n",
      "Epoch 43/50\n",
      "27/27 [==============================] - 0s 5ms/step - loss: 0.0501 - val_loss: 0.1244\n",
      "Epoch 44/50\n",
      "27/27 [==============================] - 0s 4ms/step - loss: 0.0474 - val_loss: 0.1243\n",
      "Epoch 45/50\n",
      "27/27 [==============================] - 0s 4ms/step - loss: 0.0465 - val_loss: 0.1266\n",
      "Epoch 46/50\n",
      "27/27 [==============================] - 0s 5ms/step - loss: 0.0489 - val_loss: 0.1234\n",
      "Epoch 47/50\n",
      "27/27 [==============================] - 0s 5ms/step - loss: 0.0491 - val_loss: 0.1256\n",
      "Epoch 48/50\n",
      "27/27 [==============================] - 0s 4ms/step - loss: 0.0449 - val_loss: 0.1238\n",
      "Epoch 49/50\n",
      "27/27 [==============================] - 0s 5ms/step - loss: 0.0460 - val_loss: 0.1241\n",
      "Epoch 50/50\n",
      "27/27 [==============================] - 0s 5ms/step - loss: 0.0430 - val_loss: 0.1225\n",
      "7/7 [==============================] - 0s 0s/step - loss: 0.1225\n",
      "Test Loss: 0.12248627096414566\n"
     ]
    }
   ],
   "source": [
    "from tensorflow.keras.layers import Input, RNN, Dropout, Dense, SimpleRNNCell, LSTMCell, GRUCell\n",
    "# Define input layer\n",
    "inputs = Input(shape=(x_train_pca.shape[1], x_train_pca.shape[2]))\n",
    "\n",
    "# RNN layers with dropout regularization\n",
    "rnn1 = RNN(SimpleRNNCell(units=64), return_sequences=True)(inputs)\n",
    "dropout1 = Dropout(0.2)(rnn1)\n",
    "rnn2 = RNN(LSTMCell(units=128), return_sequences=True)(dropout1)\n",
    "dropout2 = Dropout(0.3)(rnn2)\n",
    "rnn3 = RNN(GRUCell(units=64), return_sequences=True)(dropout2)\n",
    "dropout3 = Dropout(0.2)(rnn3)\n",
    "\n",
    "# RNN output layer\n",
    "rnn_output = RNN(GRUCell(units=32))(dropout3)\n",
    "\n",
    "# Output layer for regression\n",
    "outputs = Dense(units=1)(rnn_output)\n",
    "\n",
    "# Define model\n",
    "model = Model(inputs=inputs, outputs=outputs)\n",
    "\n",
    "# Compile model\n",
    "model.compile(optimizer='adam', loss='mean_squared_error')\n",
    "\n",
    "# Early stopping\n",
    "early_stopping = EarlyStopping(monitor='val_loss', patience=5, verbose=1)\n",
    "\n",
    "# Train model with validation data\n",
    "history = model.fit(x_train_pca, y_train, epochs=50, batch_size=32, verbose=1, validation_data=(x_test_pca, y_test), callbacks=[early_stopping])\n",
    "\n",
    "# Evaluate model\n",
    "loss_rnn_pca = model.evaluate(x_test_pca, y_test)\n",
    "print(\"Test Loss:\", loss_rnn_pca)\n"
   ]
  },
  {
   "cell_type": "code",
   "execution_count": 54,
   "metadata": {},
   "outputs": [
    {
     "data": {
      "image/png": "[encoded data removed]",
      "text/plain": [
       "<Figure size 640x480 with 1 Axes>"
      ]
     },
     "metadata": {},
     "output_type": "display_data"
    }
   ],
   "source": [
    "# Plot training and validation loss\n",
    "plt.plot(history.history['loss'], label='Training Loss')\n",
    "plt.plot(history.history['val_loss'], label='Validation Loss')\n",
    "plt.title('Training and Validation Loss')\n",
    "plt.xlabel('Epoch')\n",
    "plt.ylabel('Loss')\n",
    "plt.legend()\n",
    "plt.show()"
   ]
  },
  {
   "cell_type": "code",
   "execution_count": 55,
   "metadata": {},
   "outputs": [
    {
     "name": "stdout",
     "output_type": "stream",
     "text": [
      "7/7 [==============================] - 0s 3ms/step\n"
     ]
    },
    {
     "data": {
      "image/png": "[encoded data removed]",
      "text/plain": [
       "<Figure size 640x480 with 1 Axes>"
      ]
     },
     "metadata": {},
     "output_type": "display_data"
    }
   ],
   "source": [
    "# Predictions\n",
    "y_pred_rnn_pca = model.predict(x_test_pca)\n",
    "\n",
    "# Plot actual vs predicted values\n",
    "plt.scatter(y_test, y_pred_rnn_pca)\n",
    "plt.xlabel('Actual')\n",
    "plt.ylabel('Predicted')\n",
    "plt.title('Actual vs Predicted')\n",
    "\n",
    "# Add abline (identity line)\n",
    "plt.plot(y_test, y_test, color='red')  # abline with slope 1 and intercept 0\n",
    "plt.show()"
   ]
  },
  {
   "cell_type": "code",
   "execution_count": 56,
   "metadata": {},
   "outputs": [
    {
     "name": "stdout",
     "output_type": "stream",
     "text": [
      "RMSE: 0.3499803982998087\n"
     ]
    }
   ],
   "source": [
    "# Calculate RMSE\n",
    "rmse_rnn_pca = np.sqrt(mean_squared_error(y_test, y_pred_rnn_pca))\n",
    "print(\"RMSE:\", rmse_rnn_pca)"
   ]
  },
  {
   "cell_type": "code",
   "execution_count": 57,
   "metadata": {},
   "outputs": [
    {
     "name": "stdout",
     "output_type": "stream",
     "text": [
      "MAE: 0.30454099810710666\n"
     ]
    }
   ],
   "source": [
    "mae_rnn_pca = mae(y_test, y_pred_rnn_pca)\n",
    "print(\"MAE:\", mae_rnn_pca)"
   ]
  },
  {
   "cell_type": "markdown",
   "metadata": {},
   "source": [
    "## SVD"
   ]
  },
  {
   "cell_type": "code",
   "execution_count": 58,
   "metadata": {},
   "outputs": [
    {
     "name": "stdout",
     "output_type": "stream",
     "text": [
      "Epoch 1/50\n",
      "27/27 [==============================] - 4s 20ms/step - loss: 180.0102 - val_loss: 157.1492\n",
      "Epoch 2/50\n",
      "27/27 [==============================] - 0s 6ms/step - loss: 103.1831 - val_loss: 37.5469\n",
      "Epoch 3/50\n",
      "27/27 [==============================] - 0s 6ms/step - loss: 25.3772 - val_loss: 19.4767\n",
      "Epoch 4/50\n",
      "27/27 [==============================] - 0s 5ms/step - loss: 11.6223 - val_loss: 12.0436\n",
      "Epoch 5/50\n",
      "27/27 [==============================] - 0s 5ms/step - loss: 6.5116 - val_loss: 7.6286\n",
      "Epoch 6/50\n",
      "27/27 [==============================] - 0s 6ms/step - loss: 3.7282 - val_loss: 4.8653\n",
      "Epoch 7/50\n",
      "27/27 [==============================] - 0s 6ms/step - loss: 2.1766 - val_loss: 3.1596\n",
      "Epoch 8/50\n",
      "27/27 [==============================] - 0s 6ms/step - loss: 1.3226 - val_loss: 2.1224\n",
      "Epoch 9/50\n",
      "27/27 [==============================] - 0s 6ms/step - loss: 0.8867 - val_loss: 1.4954\n",
      "Epoch 10/50\n",
      "27/27 [==============================] - 0s 6ms/step - loss: 0.6721 - val_loss: 1.1169\n",
      "Epoch 11/50\n",
      "27/27 [==============================] - 0s 7ms/step - loss: 0.5823 - val_loss: 0.8893\n",
      "Epoch 12/50\n",
      "27/27 [==============================] - 0s 5ms/step - loss: 0.5355 - val_loss: 0.7481\n",
      "Epoch 13/50\n",
      "27/27 [==============================] - 0s 6ms/step - loss: 0.5124 - val_loss: 0.6704\n",
      "Epoch 14/50\n",
      "27/27 [==============================] - 0s 6ms/step - loss: 0.5146 - val_loss: 0.6234\n",
      "Epoch 15/50\n",
      "27/27 [==============================] - 0s 5ms/step - loss: 0.4998 - val_loss: 0.6103\n",
      "Epoch 16/50\n",
      "27/27 [==============================] - 0s 5ms/step - loss: 0.4972 - val_loss: 0.5834\n",
      "Epoch 17/50\n",
      "27/27 [==============================] - 0s 5ms/step - loss: 0.5001 - val_loss: 0.5812\n",
      "Epoch 18/50\n",
      "27/27 [==============================] - 0s 6ms/step - loss: 0.4985 - val_loss: 0.5684\n",
      "Epoch 19/50\n",
      "27/27 [==============================] - 0s 6ms/step - loss: 0.4852 - val_loss: 0.5702\n",
      "Epoch 20/50\n",
      "27/27 [==============================] - 0s 6ms/step - loss: 0.4836 - val_loss: 0.5657\n",
      "Epoch 21/50\n",
      "27/27 [==============================] - 0s 5ms/step - loss: 0.4910 - val_loss: 0.5498\n",
      "Epoch 22/50\n",
      "27/27 [==============================] - 0s 5ms/step - loss: 0.4736 - val_loss: 0.5424\n",
      "Epoch 23/50\n",
      "27/27 [==============================] - 0s 6ms/step - loss: 0.4607 - val_loss: 0.5460\n",
      "Epoch 24/50\n",
      "27/27 [==============================] - 0s 6ms/step - loss: 0.4493 - val_loss: 0.5316\n",
      "Epoch 25/50\n",
      "27/27 [==============================] - 0s 6ms/step - loss: 0.4129 - val_loss: 0.5191\n",
      "Epoch 26/50\n",
      "27/27 [==============================] - 0s 6ms/step - loss: 0.3827 - val_loss: 0.4956\n",
      "Epoch 27/50\n",
      "27/27 [==============================] - 0s 5ms/step - loss: 0.3224 - val_loss: 0.4531\n",
      "Epoch 28/50\n",
      "27/27 [==============================] - 0s 5ms/step - loss: 0.2367 - val_loss: 0.3913\n",
      "Epoch 29/50\n",
      "27/27 [==============================] - 0s 6ms/step - loss: 0.1675 - val_loss: 0.2910\n",
      "Epoch 30/50\n",
      "27/27 [==============================] - 0s 5ms/step - loss: 0.1136 - val_loss: 0.2121\n",
      "Epoch 31/50\n",
      "27/27 [==============================] - 0s 6ms/step - loss: 0.0933 - val_loss: 0.1741\n",
      "Epoch 32/50\n",
      "27/27 [==============================] - 0s 6ms/step - loss: 0.0816 - val_loss: 0.1503\n",
      "Epoch 33/50\n",
      "27/27 [==============================] - 0s 5ms/step - loss: 0.0705 - val_loss: 0.1365\n",
      "Epoch 34/50\n",
      "27/27 [==============================] - 0s 5ms/step - loss: 0.0807 - val_loss: 0.1334\n",
      "Epoch 35/50\n",
      "27/27 [==============================] - 0s 6ms/step - loss: 0.0657 - val_loss: 0.1297\n",
      "Epoch 36/50\n",
      "27/27 [==============================] - 0s 6ms/step - loss: 0.0593 - val_loss: 0.1279\n",
      "Epoch 37/50\n",
      "27/27 [==============================] - 0s 6ms/step - loss: 0.0558 - val_loss: 0.1273\n",
      "Epoch 38/50\n",
      "27/27 [==============================] - 0s 6ms/step - loss: 0.0511 - val_loss: 0.1258\n",
      "Epoch 39/50\n",
      "27/27 [==============================] - 0s 8ms/step - loss: 0.0533 - val_loss: 0.1242\n",
      "Epoch 40/50\n",
      "27/27 [==============================] - 0s 5ms/step - loss: 0.0506 - val_loss: 0.1272\n",
      "Epoch 41/50\n",
      "27/27 [==============================] - 0s 5ms/step - loss: 0.0505 - val_loss: 0.1271\n",
      "Epoch 42/50\n",
      "27/27 [==============================] - 0s 6ms/step - loss: 0.0484 - val_loss: 0.1234\n",
      "Epoch 43/50\n",
      "27/27 [==============================] - 0s 6ms/step - loss: 0.0468 - val_loss: 0.1263\n",
      "Epoch 44/50\n",
      "27/27 [==============================] - 0s 6ms/step - loss: 0.0485 - val_loss: 0.1257\n",
      "Epoch 45/50\n",
      "27/27 [==============================] - 0s 5ms/step - loss: 0.0456 - val_loss: 0.1255\n",
      "Epoch 46/50\n",
      "27/27 [==============================] - 0s 5ms/step - loss: 0.0461 - val_loss: 0.1230\n",
      "Epoch 47/50\n",
      "27/27 [==============================] - 0s 5ms/step - loss: 0.0456 - val_loss: 0.1239\n",
      "Epoch 48/50\n",
      "27/27 [==============================] - 0s 5ms/step - loss: 0.0440 - val_loss: 0.1258\n",
      "Epoch 49/50\n",
      "27/27 [==============================] - 0s 5ms/step - loss: 0.0366 - val_loss: 0.1249\n",
      "Epoch 50/50\n",
      "27/27 [==============================] - 0s 5ms/step - loss: 0.0435 - val_loss: 0.1237\n",
      "7/7 [==============================] - 0s 4ms/step - loss: 0.1237\n",
      "Test Loss: 0.12365880608558655\n"
     ]
    }
   ],
   "source": [
    "# Define input layer\n",
    "inputs = Input(shape=(X_train_svd.shape[1], X_train_svd.shape[2]))\n",
    "\n",
    "# RNN layers with dropout regularization\n",
    "# RNN layers with dropout regularization\n",
    "rnn1 = RNN(SimpleRNNCell(units=64), return_sequences=True)(inputs)\n",
    "dropout1 = Dropout(0.2)(rnn1)\n",
    "rnn2 = RNN(LSTMCell(units=128), return_sequences=True)(dropout1)\n",
    "dropout2 = Dropout(0.3)(rnn2)\n",
    "rnn3 = RNN(GRUCell(units=64), return_sequences=True)(dropout2)\n",
    "dropout3 = Dropout(0.2)(rnn3)\n",
    "\n",
    "# RNN output layer\n",
    "rnn_output = RNN(GRUCell(units=32))(dropout3)\n",
    "\n",
    "# Output layer for regression\n",
    "outputs = Dense(units=1)(rnn_output)\n",
    "\n",
    "# Define model\n",
    "model = Model(inputs=inputs, outputs=outputs)\n",
    "\n",
    "# Compile model\n",
    "model.compile(optimizer='adam', loss='mean_squared_error')\n",
    "\n",
    "# Early stopping\n",
    "early_stopping = EarlyStopping(monitor='val_loss', patience=5, verbose=1)\n",
    "\n",
    "# Train model with validation data\n",
    "history = model.fit(X_train_svd, y_train, epochs=50, batch_size=32, verbose=1, validation_data=(X_test_svd, y_test), callbacks=[early_stopping])\n",
    "\n",
    "# Evaluate model\n",
    "loss_rnn_svd = model.evaluate(X_test_svd, y_test)\n",
    "print(\"Test Loss:\", loss_rnn_svd)\n"
   ]
  },
  {
   "cell_type": "code",
   "execution_count": 59,
   "metadata": {},
   "outputs": [
    {
     "data": {
      "image/png": "[encoded data removed]",
      "text/plain": [
       "<Figure size 640x480 with 1 Axes>"
      ]
     },
     "metadata": {},
     "output_type": "display_data"
    }
   ],
   "source": [
    "# Plot training and validation loss\n",
    "plt.plot(history.history['loss'], label='Training Loss')\n",
    "plt.plot(history.history['val_loss'], label='Validation Loss')\n",
    "plt.title('Training and Validation Loss')\n",
    "plt.xlabel('Epoch')\n",
    "plt.ylabel('Loss')\n",
    "plt.legend()\n",
    "plt.show()"
   ]
  },
  {
   "cell_type": "code",
   "execution_count": 60,
   "metadata": {},
   "outputs": [
    {
     "name": "stdout",
     "output_type": "stream",
     "text": [
      "7/7 [==============================] - 0s 2ms/step\n"
     ]
    },
    {
     "data": {
      "image/png": "[encoded data removed]",
      "text/plain": [
       "<Figure size 640x480 with 1 Axes>"
      ]
     },
     "metadata": {},
     "output_type": "display_data"
    }
   ],
   "source": [
    "# Predictions\n",
    "y_pred_rnn_svd = model.predict(X_test_svd)\n",
    "\n",
    "# Plot actual vs predicted values\n",
    "plt.scatter(y_test, y_pred_rnn_svd)\n",
    "plt.xlabel('Actual')\n",
    "plt.ylabel('Predicted')\n",
    "plt.title('Actual vs Predicted')\n",
    "\n",
    "# Add abline (identity line)\n",
    "plt.plot(y_test, y_test, color='red')  # abline with slope 1 and intercept 0\n",
    "plt.show()"
   ]
  },
  {
   "cell_type": "code",
   "execution_count": 61,
   "metadata": {},
   "outputs": [
    {
     "name": "stdout",
     "output_type": "stream",
     "text": [
      "RMSE: 0.3516516158905703\n"
     ]
    }
   ],
   "source": [
    "# Calculate RMSE\n",
    "rmse_rnn_svd = np.sqrt(mean_squared_error(y_test, y_pred_rnn_svd))\n",
    "print(\"RMSE:\", rmse_rnn_svd)"
   ]
  },
  {
   "cell_type": "code",
   "execution_count": 62,
   "metadata": {},
   "outputs": [
    {
     "name": "stdout",
     "output_type": "stream",
     "text": [
      "MAE: 0.3062906747879424\n"
     ]
    }
   ],
   "source": [
    "mae_rnn_svd = mae(y_test, y_pred_rnn_svd)\n",
    "print(\"MAE:\", mae_rnn_svd)"
   ]
  },
  {
   "cell_type": "markdown",
   "metadata": {},
   "source": [
    "## GRP"
   ]
  },
  {
   "cell_type": "code",
   "execution_count": 63,
   "metadata": {},
   "outputs": [
    {
     "name": "stdout",
     "output_type": "stream",
     "text": [
      "Epoch 1/50\n",
      "27/27 [==============================] - 4s 22ms/step - loss: 180.2642 - val_loss: 169.5750\n",
      "Epoch 2/50\n",
      "27/27 [==============================] - 0s 6ms/step - loss: 106.4624 - val_loss: 45.1057\n",
      "Epoch 3/50\n",
      "27/27 [==============================] - 0s 6ms/step - loss: 28.2480 - val_loss: 20.7367\n",
      "Epoch 4/50\n",
      "27/27 [==============================] - 0s 5ms/step - loss: 12.3990 - val_loss: 12.6467\n",
      "Epoch 5/50\n",
      "27/27 [==============================] - 0s 5ms/step - loss: 6.8561 - val_loss: 8.0155\n",
      "Epoch 6/50\n",
      "27/27 [==============================] - 0s 6ms/step - loss: 3.9597 - val_loss: 5.1314\n",
      "Epoch 7/50\n",
      "27/27 [==============================] - 0s 6ms/step - loss: 2.2965 - val_loss: 3.3377\n",
      "Epoch 8/50\n",
      "27/27 [==============================] - 0s 6ms/step - loss: 1.4095 - val_loss: 2.2488\n",
      "Epoch 9/50\n",
      "27/27 [==============================] - 0s 6ms/step - loss: 0.9386 - val_loss: 1.5791\n",
      "Epoch 10/50\n",
      "27/27 [==============================] - 0s 6ms/step - loss: 0.7048 - val_loss: 1.1722\n",
      "Epoch 11/50\n",
      "27/27 [==============================] - 0s 5ms/step - loss: 0.5974 - val_loss: 0.9250\n",
      "Epoch 12/50\n",
      "27/27 [==============================] - 0s 5ms/step - loss: 0.5467 - val_loss: 0.7858\n",
      "Epoch 13/50\n",
      "27/27 [==============================] - 0s 6ms/step - loss: 0.5386 - val_loss: 0.7014\n",
      "Epoch 14/50\n",
      "27/27 [==============================] - 0s 6ms/step - loss: 0.5268 - val_loss: 0.6469\n",
      "Epoch 15/50\n",
      "27/27 [==============================] - 0s 5ms/step - loss: 0.5161 - val_loss: 0.6175\n",
      "Epoch 16/50\n",
      "27/27 [==============================] - 0s 5ms/step - loss: 0.5141 - val_loss: 0.6091\n",
      "Epoch 17/50\n",
      "27/27 [==============================] - 0s 5ms/step - loss: 0.5121 - val_loss: 0.5935\n",
      "Epoch 18/50\n",
      "27/27 [==============================] - 0s 5ms/step - loss: 0.5183 - val_loss: 0.5916\n",
      "Epoch 19/50\n",
      "27/27 [==============================] - 0s 5ms/step - loss: 0.5113 - val_loss: 0.5871\n",
      "Epoch 20/50\n",
      "27/27 [==============================] - 0s 5ms/step - loss: 0.5136 - val_loss: 0.5856\n",
      "Epoch 21/50\n",
      "27/27 [==============================] - 0s 5ms/step - loss: 0.5073 - val_loss: 0.5843\n",
      "Epoch 22/50\n",
      "27/27 [==============================] - 0s 4ms/step - loss: 0.5066 - val_loss: 0.5832\n",
      "Epoch 23/50\n",
      "27/27 [==============================] - 0s 5ms/step - loss: 0.5036 - val_loss: 0.5915\n",
      "Epoch 24/50\n",
      "27/27 [==============================] - 0s 5ms/step - loss: 0.5079 - val_loss: 0.5931\n",
      "Epoch 25/50\n",
      "27/27 [==============================] - 0s 6ms/step - loss: 0.5061 - val_loss: 0.5911\n",
      "Epoch 26/50\n",
      "27/27 [==============================] - 0s 5ms/step - loss: 0.5050 - val_loss: 0.5770\n",
      "Epoch 27/50\n",
      "27/27 [==============================] - 0s 5ms/step - loss: 0.5028 - val_loss: 0.5918\n",
      "Epoch 28/50\n",
      "27/27 [==============================] - 0s 5ms/step - loss: 0.4990 - val_loss: 0.5823\n",
      "Epoch 29/50\n",
      "27/27 [==============================] - 0s 7ms/step - loss: 0.5030 - val_loss: 0.5811\n",
      "Epoch 30/50\n",
      "27/27 [==============================] - 0s 6ms/step - loss: 0.4926 - val_loss: 0.5882\n",
      "Epoch 31/50\n",
      "27/27 [==============================] - 0s 5ms/step - loss: 0.4922 - val_loss: 0.5860\n",
      "Epoch 31: early stopping\n",
      "7/7 [==============================] - 0s 2ms/step - loss: 0.5860\n",
      "Test Loss: 0.5860459208488464\n"
     ]
    }
   ],
   "source": [
    "# Define input layer\n",
    "inputs = Input(shape=(X_train_grp.shape[1], X_train_grp.shape[2]))\n",
    "\n",
    "# RNN layers with dropout regularization\n",
    "# RNN layers with dropout regularization\n",
    "rnn1 = RNN(SimpleRNNCell(units=64), return_sequences=True)(inputs)\n",
    "dropout1 = Dropout(0.2)(rnn1)\n",
    "rnn2 = RNN(LSTMCell(units=128), return_sequences=True)(dropout1)\n",
    "dropout2 = Dropout(0.3)(rnn2)\n",
    "rnn3 = RNN(GRUCell(units=64), return_sequences=True)(dropout2)\n",
    "dropout3 = Dropout(0.2)(rnn3)\n",
    "\n",
    "# RNN output layer\n",
    "rnn_output = RNN(GRUCell(units=32))(dropout3)\n",
    "\n",
    "# Output layer for regression\n",
    "outputs = Dense(units=1)(rnn_output)\n",
    "\n",
    "# Define model\n",
    "model = Model(inputs=inputs, outputs=outputs)\n",
    "\n",
    "# Compile model\n",
    "model.compile(optimizer='adam', loss='mean_squared_error')\n",
    "\n",
    "# Early stopping\n",
    "early_stopping = EarlyStopping(monitor='val_loss', patience=5, verbose=1)\n",
    "\n",
    "# Train model with validation data\n",
    "history = model.fit(X_train_grp, y_train, epochs=50, batch_size=32, verbose=1, validation_data=(X_test_grp, y_test), callbacks=[early_stopping])\n",
    "\n",
    "# Evaluate model\n",
    "loss_rnn_grp = model.evaluate(X_test_grp, y_test)\n",
    "print(\"Test Loss:\", loss_rnn_grp)\n"
   ]
  },
  {
   "cell_type": "code",
   "execution_count": 64,
   "metadata": {},
   "outputs": [
    {
     "data": {
      "image/png": "[encoded data removed]",
      "text/plain": [
       "<Figure size 640x480 with 1 Axes>"
      ]
     },
     "metadata": {},
     "output_type": "display_data"
    }
   ],
   "source": [
    "# Plot training and validation loss\n",
    "plt.plot(history.history['loss'], label='Training Loss')\n",
    "plt.plot(history.history['val_loss'], label='Validation Loss')\n",
    "plt.title('Training and Validation Loss')\n",
    "plt.xlabel('Epoch')\n",
    "plt.ylabel('Loss')\n",
    "plt.legend()\n",
    "plt.show()"
   ]
  },
  {
   "cell_type": "code",
   "execution_count": 65,
   "metadata": {},
   "outputs": [
    {
     "name": "stdout",
     "output_type": "stream",
     "text": [
      "7/7 [==============================] - 0s 3ms/step\n"
     ]
    },
    {
     "data": {
      "image/png": "[encoded data removed]",
      "text/plain": [
       "<Figure size 640x480 with 1 Axes>"
      ]
     },
     "metadata": {},
     "output_type": "display_data"
    }
   ],
   "source": [
    "# Predictions\n",
    "y_pred_rnn_grp = model.predict(X_test_grp)\n",
    "\n",
    "# Plot actual vs predicted values\n",
    "plt.scatter(y_test, y_pred_rnn_grp)\n",
    "plt.xlabel('Actual')\n",
    "plt.ylabel('Predicted')\n",
    "plt.title('Actual vs Predicted')\n",
    "\n",
    "# Add abline (identity line)\n",
    "plt.plot(y_test, y_test, color='red')  # abline with slope 1 and intercept 0\n",
    "plt.show()"
   ]
  },
  {
   "cell_type": "code",
   "execution_count": 66,
   "metadata": {},
   "outputs": [
    {
     "name": "stdout",
     "output_type": "stream",
     "text": [
      "RMSE: 0.7655364954631771\n"
     ]
    }
   ],
   "source": [
    "# Calculate RMSE\n",
    "rmse_rnn_grp = np.sqrt(mean_squared_error(y_test, y_pred_rnn_grp))\n",
    "print(\"RMSE:\", rmse_rnn_grp)"
   ]
  },
  {
   "cell_type": "code",
   "execution_count": 67,
   "metadata": {},
   "outputs": [
    {
     "name": "stdout",
     "output_type": "stream",
     "text": [
      "MAE: 0.7458808973429929\n"
     ]
    }
   ],
   "source": [
    "mae_rnn_grp = mae(y_test, y_pred_rnn_grp)\n",
    "print(\"MAE:\", mae_rnn_grp)"
   ]
  },
  {
   "cell_type": "markdown",
   "metadata": {},
   "source": [
    "# CNN"
   ]
  },
  {
   "cell_type": "markdown",
   "metadata": {},
   "source": [
    "## PCA"
   ]
  },
  {
   "cell_type": "code",
   "execution_count": 68,
   "metadata": {},
   "outputs": [
    {
     "name": "stdout",
     "output_type": "stream",
     "text": [
      "Epoch 1/50\n",
      "27/27 [==============================] - 1s 6ms/step - loss: 141.3043 - val_loss: 54.9665\n",
      "Epoch 2/50\n",
      "27/27 [==============================] - 0s 2ms/step - loss: 36.9425 - val_loss: 107.2574\n",
      "Epoch 3/50\n",
      "27/27 [==============================] - 0s 2ms/step - loss: 16.3658 - val_loss: 48.0057\n",
      "Epoch 4/50\n",
      "27/27 [==============================] - 0s 2ms/step - loss: 12.5368 - val_loss: 55.5655\n",
      "Epoch 5/50\n",
      "27/27 [==============================] - 0s 2ms/step - loss: 10.8349 - val_loss: 48.9384\n",
      "Epoch 6/50\n",
      "27/27 [==============================] - 0s 2ms/step - loss: 10.9736 - val_loss: 44.2302\n",
      "Epoch 7/50\n",
      "27/27 [==============================] - 0s 2ms/step - loss: 10.0555 - val_loss: 35.2622\n",
      "Epoch 8/50\n",
      "27/27 [==============================] - 0s 3ms/step - loss: 9.7086 - val_loss: 32.1464\n",
      "Epoch 9/50\n",
      "27/27 [==============================] - 0s 2ms/step - loss: 8.9541 - val_loss: 36.9934\n",
      "Epoch 10/50\n",
      "27/27 [==============================] - 0s 2ms/step - loss: 8.0600 - val_loss: 34.0673\n",
      "Epoch 11/50\n",
      "27/27 [==============================] - 0s 3ms/step - loss: 7.2162 - val_loss: 24.1390\n",
      "Epoch 12/50\n",
      "27/27 [==============================] - 0s 2ms/step - loss: 7.0055 - val_loss: 22.5651\n",
      "Epoch 13/50\n",
      "27/27 [==============================] - 0s 2ms/step - loss: 6.4301 - val_loss: 21.9862\n",
      "Epoch 14/50\n",
      "27/27 [==============================] - 0s 2ms/step - loss: 6.2376 - val_loss: 23.0942\n",
      "Epoch 15/50\n",
      "27/27 [==============================] - 0s 2ms/step - loss: 6.3460 - val_loss: 18.9518\n",
      "Epoch 16/50\n",
      "27/27 [==============================] - 0s 3ms/step - loss: 5.0863 - val_loss: 9.3654\n",
      "Epoch 17/50\n",
      "27/27 [==============================] - 0s 3ms/step - loss: 5.3105 - val_loss: 9.5507\n",
      "Epoch 18/50\n",
      "27/27 [==============================] - 0s 3ms/step - loss: 4.9854 - val_loss: 5.9283\n",
      "Epoch 19/50\n",
      "27/27 [==============================] - 0s 3ms/step - loss: 4.6637 - val_loss: 11.1365\n",
      "Epoch 20/50\n",
      "27/27 [==============================] - 0s 3ms/step - loss: 4.5121 - val_loss: 7.2230\n",
      "Epoch 21/50\n",
      "27/27 [==============================] - 0s 3ms/step - loss: 4.1923 - val_loss: 4.5617\n",
      "Epoch 22/50\n",
      "27/27 [==============================] - 0s 3ms/step - loss: 4.4295 - val_loss: 11.0531\n",
      "Epoch 23/50\n",
      "27/27 [==============================] - 0s 3ms/step - loss: 3.8071 - val_loss: 5.5954\n",
      "Epoch 24/50\n",
      "27/27 [==============================] - 0s 2ms/step - loss: 3.6711 - val_loss: 3.2810\n",
      "Epoch 25/50\n",
      "27/27 [==============================] - 0s 2ms/step - loss: 3.2871 - val_loss: 3.0100\n",
      "Epoch 26/50\n",
      "27/27 [==============================] - 0s 5ms/step - loss: 3.4709 - val_loss: 1.0761\n",
      "Epoch 27/50\n",
      "27/27 [==============================] - 0s 2ms/step - loss: 3.2853 - val_loss: 2.1573\n",
      "Epoch 28/50\n",
      "27/27 [==============================] - 0s 4ms/step - loss: 3.4291 - val_loss: 0.8517\n",
      "Epoch 29/50\n",
      "27/27 [==============================] - 0s 3ms/step - loss: 3.4104 - val_loss: 1.4160\n",
      "Epoch 30/50\n",
      "27/27 [==============================] - 0s 2ms/step - loss: 3.2238 - val_loss: 0.5819\n",
      "Epoch 31/50\n",
      "27/27 [==============================] - 0s 3ms/step - loss: 2.8668 - val_loss: 1.2302\n",
      "Epoch 32/50\n",
      "27/27 [==============================] - 0s 3ms/step - loss: 3.0042 - val_loss: 0.8047\n",
      "Epoch 33/50\n",
      "27/27 [==============================] - 0s 3ms/step - loss: 3.0029 - val_loss: 0.7606\n",
      "Epoch 34/50\n",
      "27/27 [==============================] - 0s 3ms/step - loss: 2.9742 - val_loss: 1.1932\n",
      "Epoch 35/50\n",
      "27/27 [==============================] - 0s 3ms/step - loss: 3.1398 - val_loss: 0.9527\n",
      "Epoch 35: early stopping\n",
      "7/7 [==============================] - 0s 3ms/step - loss: 0.9527\n",
      "Test Loss: 0.9527363777160645\n"
     ]
    }
   ],
   "source": [
    "# Define input layer\n",
    "inputs = Input(shape=(x_train_pca.shape[1], x_train_pca.shape[2]))\n",
    "\n",
    "# Convolutional layers with max pooling and dropout regularization\n",
    "conv1 = Conv1D(filters=64, kernel_size=1, activation='relu')(inputs)\n",
    "pool1 = MaxPooling1D(pool_size=1)(conv1)  # Adjust pool size to 1\n",
    "dropout1 = Dropout(0.2)(pool1)\n",
    "\n",
    "conv2 = Conv1D(filters=64, kernel_size=1, activation='relu')(dropout1)\n",
    "pool2 = MaxPooling1D(pool_size=1)(conv2)  # Adjust pool size to 1\n",
    "dropout2 = Dropout(0.2)(pool2)\n",
    "\n",
    "# Flatten layer to transition from 3D to 2D data\n",
    "flatten = Flatten()(dropout2)\n",
    "\n",
    "# Dense layers for further processing\n",
    "dense1 = Dense(units=50, activation='relu')(flatten)\n",
    "dropout3 = Dropout(0.2)(dense1)\n",
    "\n",
    "# Output layer for regression\n",
    "outputs = Dense(units=1)(dropout3)\n",
    "\n",
    "# Define model\n",
    "model = Model(inputs=inputs, outputs=outputs)\n",
    "\n",
    "# Compile model\n",
    "model.compile(optimizer='adam', loss='mean_squared_error')\n",
    "\n",
    "# Early stopping\n",
    "early_stopping = EarlyStopping(monitor='val_loss', patience=5, verbose=1)\n",
    "\n",
    "# Train model with validation data\n",
    "history = model.fit(x_train_pca, y_train, epochs=50, batch_size=32, verbose=1, validation_data=(x_test_pca, y_test), callbacks=[early_stopping])\n",
    "\n",
    "# Evaluate model\n",
    "loss_cnn_pca = model.evaluate(x_test_pca, y_test)\n",
    "print(\"Test Loss:\", loss_cnn_pca)\n"
   ]
  },
  {
   "cell_type": "code",
   "execution_count": 69,
   "metadata": {},
   "outputs": [
    {
     "data": {
      "image/png": "[encoded data removed]",
      "text/plain": [
       "<Figure size 640x480 with 1 Axes>"
      ]
     },
     "metadata": {},
     "output_type": "display_data"
    }
   ],
   "source": [
    "# Plot training and validation loss\n",
    "plt.plot(history.history['loss'], label='Training Loss')\n",
    "plt.plot(history.history['val_loss'], label='Validation Loss')\n",
    "plt.title('Training and Validation Loss')\n",
    "plt.xlabel('Epoch')\n",
    "plt.ylabel('Loss')\n",
    "plt.legend()\n",
    "plt.show()"
   ]
  },
  {
   "cell_type": "code",
   "execution_count": 70,
   "metadata": {},
   "outputs": [
    {
     "name": "stdout",
     "output_type": "stream",
     "text": [
      "7/7 [==============================] - 0s 3ms/step\n"
     ]
    },
    {
     "data": {
      "image/png": "[encoded data removed]",
      "text/plain": [
       "<Figure size 640x480 with 1 Axes>"
      ]
     },
     "metadata": {},
     "output_type": "display_data"
    }
   ],
   "source": [
    "# Predictions\n",
    "y_pred_cnn_pca = model.predict(x_test_pca)\n",
    "\n",
    "# Plot actual vs predicted values\n",
    "plt.scatter(y_test, y_pred_cnn_pca)\n",
    "plt.xlabel('Actual')\n",
    "plt.ylabel('Predicted')\n",
    "plt.title('Actual vs Predicted')\n",
    "\n",
    "# Add abline (identity line)\n",
    "plt.plot(y_test, y_test, color='red')  # abline with slope 1 and intercept 0\n",
    "plt.show()"
   ]
  },
  {
   "cell_type": "code",
   "execution_count": 71,
   "metadata": {},
   "outputs": [
    {
     "name": "stdout",
     "output_type": "stream",
     "text": [
      "RMSE: 0.9760820607219929\n"
     ]
    }
   ],
   "source": [
    "# Calculate RMSE\n",
    "rmse_cnn_pca = np.sqrt(mean_squared_error(y_test, y_pred_cnn_pca))\n",
    "print(\"RMSE:\", rmse_cnn_pca)"
   ]
  },
  {
   "cell_type": "code",
   "execution_count": 72,
   "metadata": {},
   "outputs": [
    {
     "name": "stdout",
     "output_type": "stream",
     "text": [
      "RMSE: 0.7392968527632645\n"
     ]
    }
   ],
   "source": [
    "# Calculate RMSE\n",
    "mae_cnn_pca = mae(y_test, y_pred_cnn_pca)\n",
    "print(\"RMSE:\", mae_cnn_pca)"
   ]
  },
  {
   "cell_type": "markdown",
   "metadata": {},
   "source": [
    "## SVD"
   ]
  },
  {
   "cell_type": "code",
   "execution_count": 73,
   "metadata": {},
   "outputs": [
    {
     "name": "stdout",
     "output_type": "stream",
     "text": [
      "Epoch 1/50\n",
      "27/27 [==============================] - 1s 6ms/step - loss: 163.0724 - val_loss: 103.8935\n",
      "Epoch 2/50\n",
      "27/27 [==============================] - 0s 3ms/step - loss: 60.3808 - val_loss: 55.6999\n",
      "Epoch 3/50\n",
      "27/27 [==============================] - 0s 3ms/step - loss: 15.3274 - val_loss: 77.5863\n",
      "Epoch 4/50\n",
      "27/27 [==============================] - 0s 3ms/step - loss: 12.2407 - val_loss: 79.3704\n",
      "Epoch 5/50\n",
      "27/27 [==============================] - 0s 3ms/step - loss: 12.5942 - val_loss: 69.5383\n",
      "Epoch 6/50\n",
      "27/27 [==============================] - 0s 3ms/step - loss: 11.1046 - val_loss: 51.1370\n",
      "Epoch 7/50\n",
      "27/27 [==============================] - 0s 3ms/step - loss: 9.9413 - val_loss: 58.2592\n",
      "Epoch 8/50\n",
      "27/27 [==============================] - 0s 3ms/step - loss: 10.9674 - val_loss: 35.5316\n",
      "Epoch 9/50\n",
      "27/27 [==============================] - 0s 4ms/step - loss: 9.3151 - val_loss: 44.1744\n",
      "Epoch 10/50\n",
      "27/27 [==============================] - 0s 3ms/step - loss: 8.3615 - val_loss: 37.2454\n",
      "Epoch 11/50\n",
      "27/27 [==============================] - 0s 3ms/step - loss: 7.7491 - val_loss: 31.1714\n",
      "Epoch 12/50\n",
      "27/27 [==============================] - 0s 3ms/step - loss: 8.0525 - val_loss: 19.9742\n",
      "Epoch 13/50\n",
      "27/27 [==============================] - 0s 3ms/step - loss: 7.7745 - val_loss: 19.9357\n",
      "Epoch 14/50\n",
      "27/27 [==============================] - 0s 3ms/step - loss: 7.0870 - val_loss: 24.4044\n",
      "Epoch 15/50\n",
      "27/27 [==============================] - 0s 3ms/step - loss: 6.9084 - val_loss: 14.4019\n",
      "Epoch 16/50\n",
      "27/27 [==============================] - 0s 3ms/step - loss: 6.3165 - val_loss: 19.0497\n",
      "Epoch 17/50\n",
      "27/27 [==============================] - 0s 3ms/step - loss: 5.8609 - val_loss: 19.9157\n",
      "Epoch 18/50\n",
      "27/27 [==============================] - 0s 6ms/step - loss: 6.0124 - val_loss: 12.3739\n",
      "Epoch 19/50\n",
      "27/27 [==============================] - 0s 3ms/step - loss: 5.2689 - val_loss: 12.4481\n",
      "Epoch 20/50\n",
      "27/27 [==============================] - 0s 3ms/step - loss: 4.7022 - val_loss: 11.6976\n",
      "Epoch 21/50\n",
      "27/27 [==============================] - 0s 2ms/step - loss: 5.3878 - val_loss: 8.0764\n",
      "Epoch 22/50\n",
      "27/27 [==============================] - 0s 3ms/step - loss: 4.7638 - val_loss: 6.3833\n",
      "Epoch 23/50\n",
      "27/27 [==============================] - 0s 3ms/step - loss: 4.6443 - val_loss: 4.6957\n",
      "Epoch 24/50\n",
      "27/27 [==============================] - 0s 3ms/step - loss: 4.4408 - val_loss: 5.7781\n",
      "Epoch 25/50\n",
      "27/27 [==============================] - 0s 3ms/step - loss: 4.5553 - val_loss: 3.4119\n",
      "Epoch 26/50\n",
      "27/27 [==============================] - 0s 3ms/step - loss: 4.1598 - val_loss: 2.5786\n",
      "Epoch 27/50\n",
      "27/27 [==============================] - 0s 3ms/step - loss: 4.1256 - val_loss: 3.2622\n",
      "Epoch 28/50\n",
      "27/27 [==============================] - 0s 3ms/step - loss: 3.8271 - val_loss: 3.8471\n",
      "Epoch 29/50\n",
      "27/27 [==============================] - 0s 3ms/step - loss: 3.9581 - val_loss: 1.6919\n",
      "Epoch 30/50\n",
      "27/27 [==============================] - 0s 3ms/step - loss: 3.7537 - val_loss: 0.9200\n",
      "Epoch 31/50\n",
      "27/27 [==============================] - 0s 2ms/step - loss: 4.0927 - val_loss: 1.4794\n",
      "Epoch 32/50\n",
      "27/27 [==============================] - 0s 3ms/step - loss: 3.7235 - val_loss: 2.4967\n",
      "Epoch 33/50\n",
      "27/27 [==============================] - 0s 3ms/step - loss: 3.5007 - val_loss: 1.4740\n",
      "Epoch 34/50\n",
      "27/27 [==============================] - 0s 3ms/step - loss: 3.6147 - val_loss: 2.0449\n",
      "Epoch 35/50\n",
      "27/27 [==============================] - 0s 2ms/step - loss: 3.3818 - val_loss: 2.0556\n",
      "Epoch 35: early stopping\n",
      "7/7 [==============================] - 0s 3ms/step - loss: 2.0556\n",
      "Test Loss: 2.0556302070617676\n"
     ]
    }
   ],
   "source": [
    "# Define input layer\n",
    "inputs = Input(shape=(X_train_svd.shape[1], X_train_svd.shape[2]))\n",
    "\n",
    "# Convolutional layers with max pooling and dropout regularization\n",
    "conv1 = Conv1D(filters=64, kernel_size=1, activation='relu')(inputs)\n",
    "pool1 = MaxPooling1D(pool_size=1)(conv1)  # Adjust pool size to 1\n",
    "dropout1 = Dropout(0.2)(pool1)\n",
    "\n",
    "conv2 = Conv1D(filters=64, kernel_size=1, activation='relu')(dropout1)\n",
    "pool2 = MaxPooling1D(pool_size=1)(conv2)  # Adjust pool size to 1\n",
    "dropout2 = Dropout(0.2)(pool2)\n",
    "\n",
    "# Flatten layer to transition from 3D to 2D data\n",
    "flatten = Flatten()(dropout2)\n",
    "\n",
    "# Dense layers for further processing\n",
    "dense1 = Dense(units=50, activation='relu')(flatten)\n",
    "dropout3 = Dropout(0.2)(dense1)\n",
    "\n",
    "# Output layer for regression\n",
    "outputs = Dense(units=1)(dropout3)\n",
    "\n",
    "# Define model\n",
    "model = Model(inputs=inputs, outputs=outputs)\n",
    "\n",
    "# Compile model\n",
    "model.compile(optimizer='adam', loss='mean_squared_error')\n",
    "\n",
    "# Early stopping\n",
    "early_stopping = EarlyStopping(monitor='val_loss', patience=5, verbose=1)\n",
    "\n",
    "# Train model with validation data\n",
    "history = model.fit(X_train_svd, y_train, epochs=50, batch_size=32, verbose=1, validation_data=(X_test_svd, y_test), callbacks=[early_stopping])\n",
    "\n",
    "# Evaluate model\n",
    "loss_cnn_svd = model.evaluate(X_test_svd, y_test)\n",
    "print(\"Test Loss:\", loss_cnn_svd )\n"
   ]
  },
  {
   "cell_type": "code",
   "execution_count": 74,
   "metadata": {},
   "outputs": [
    {
     "data": {
      "image/png": "[encoded data removed]",
      "text/plain": [
       "<Figure size 640x480 with 1 Axes>"
      ]
     },
     "metadata": {},
     "output_type": "display_data"
    }
   ],
   "source": [
    "# Plot training and validation loss\n",
    "plt.plot(history.history['loss'], label='Training Loss')\n",
    "plt.plot(history.history['val_loss'], label='Validation Loss')\n",
    "plt.title('Training and Validation Loss')\n",
    "plt.xlabel('Epoch')\n",
    "plt.ylabel('Loss')\n",
    "plt.legend()\n",
    "plt.show()"
   ]
  },
  {
   "cell_type": "code",
   "execution_count": 75,
   "metadata": {},
   "outputs": [
    {
     "name": "stdout",
     "output_type": "stream",
     "text": [
      "7/7 [==============================] - 0s 1ms/step\n"
     ]
    },
    {
     "data": {
      "image/png": "[encoded data removed]",
      "text/plain": [
       "<Figure size 640x480 with 1 Axes>"
      ]
     },
     "metadata": {},
     "output_type": "display_data"
    }
   ],
   "source": [
    "# Predictions\n",
    "y_pred_cnn_svd = model.predict(X_test_svd)\n",
    "\n",
    "# Plot actual vs predicted values\n",
    "plt.scatter(y_test, y_pred_cnn_svd)\n",
    "plt.xlabel('Actual')\n",
    "plt.ylabel('Predicted')\n",
    "plt.title('Actual vs Predicted')\n",
    "\n",
    "# Add abline (identity line)\n",
    "plt.plot(y_test, y_test, color='red')  # abline with slope 1 and intercept 0\n",
    "plt.show()"
   ]
  },
  {
   "cell_type": "code",
   "execution_count": 76,
   "metadata": {},
   "outputs": [
    {
     "name": "stdout",
     "output_type": "stream",
     "text": [
      "RMSE: 1.433746942918826\n"
     ]
    }
   ],
   "source": [
    "# Calculate RMSE\n",
    "rmse_cnn_svd = np.sqrt(mean_squared_error(y_test, y_pred_cnn_svd))\n",
    "print(\"RMSE:\", rmse_cnn_svd)"
   ]
  },
  {
   "cell_type": "code",
   "execution_count": 77,
   "metadata": {},
   "outputs": [
    {
     "name": "stdout",
     "output_type": "stream",
     "text": [
      "MAE: 1.185743809569557\n"
     ]
    }
   ],
   "source": [
    "# Calculate RMSE\n",
    "mae_cnn_svd = mae(y_test, y_pred_cnn_svd)\n",
    "print(\"MAE:\", mae_cnn_svd)"
   ]
  },
  {
   "cell_type": "markdown",
   "metadata": {},
   "source": [
    "## GRP"
   ]
  },
  {
   "cell_type": "code",
   "execution_count": 78,
   "metadata": {},
   "outputs": [
    {
     "name": "stdout",
     "output_type": "stream",
     "text": [
      "Epoch 1/50\n",
      "27/27 [==============================] - 1s 7ms/step - loss: 152.2287 - val_loss: 90.5068\n",
      "Epoch 2/50\n",
      "27/27 [==============================] - 0s 3ms/step - loss: 52.8047 - val_loss: 104.0476\n",
      "Epoch 3/50\n",
      "27/27 [==============================] - 0s 4ms/step - loss: 17.8215 - val_loss: 62.7263\n",
      "Epoch 4/50\n",
      "27/27 [==============================] - 0s 3ms/step - loss: 13.1034 - val_loss: 44.0911\n",
      "Epoch 5/50\n",
      "27/27 [==============================] - 0s 3ms/step - loss: 11.4284 - val_loss: 52.4846\n",
      "Epoch 6/50\n",
      "27/27 [==============================] - 0s 3ms/step - loss: 10.8311 - val_loss: 40.1995\n",
      "Epoch 7/50\n",
      "27/27 [==============================] - 0s 2ms/step - loss: 9.7805 - val_loss: 30.7353\n",
      "Epoch 8/50\n",
      "27/27 [==============================] - 0s 3ms/step - loss: 9.5971 - val_loss: 46.2852\n",
      "Epoch 9/50\n",
      "27/27 [==============================] - 0s 4ms/step - loss: 8.1307 - val_loss: 28.8066\n",
      "Epoch 10/50\n",
      "27/27 [==============================] - 0s 3ms/step - loss: 8.1925 - val_loss: 25.3167\n",
      "Epoch 11/50\n",
      "27/27 [==============================] - 0s 3ms/step - loss: 6.8681 - val_loss: 17.4182\n",
      "Epoch 12/50\n",
      "27/27 [==============================] - 0s 4ms/step - loss: 6.9593 - val_loss: 11.9775\n",
      "Epoch 13/50\n",
      "27/27 [==============================] - 0s 3ms/step - loss: 6.1908 - val_loss: 11.6116\n",
      "Epoch 14/50\n",
      "27/27 [==============================] - 0s 3ms/step - loss: 5.4352 - val_loss: 8.0882\n",
      "Epoch 15/50\n",
      "27/27 [==============================] - 0s 3ms/step - loss: 5.7446 - val_loss: 10.1877\n",
      "Epoch 16/50\n",
      "27/27 [==============================] - 0s 3ms/step - loss: 4.9815 - val_loss: 5.8274\n",
      "Epoch 17/50\n",
      "27/27 [==============================] - 0s 4ms/step - loss: 4.6203 - val_loss: 6.1231\n",
      "Epoch 18/50\n",
      "27/27 [==============================] - 0s 3ms/step - loss: 4.5379 - val_loss: 6.0239\n",
      "Epoch 19/50\n",
      "27/27 [==============================] - 0s 3ms/step - loss: 4.3027 - val_loss: 4.2051\n",
      "Epoch 20/50\n",
      "27/27 [==============================] - 0s 2ms/step - loss: 4.0879 - val_loss: 4.7706\n",
      "Epoch 21/50\n",
      "27/27 [==============================] - 0s 2ms/step - loss: 4.3418 - val_loss: 2.5620\n",
      "Epoch 22/50\n",
      "27/27 [==============================] - 0s 2ms/step - loss: 4.2168 - val_loss: 2.0941\n",
      "Epoch 23/50\n",
      "27/27 [==============================] - 0s 3ms/step - loss: 3.8063 - val_loss: 1.0761\n",
      "Epoch 24/50\n",
      "27/27 [==============================] - 0s 5ms/step - loss: 3.7976 - val_loss: 0.8149\n",
      "Epoch 25/50\n",
      "27/27 [==============================] - 0s 3ms/step - loss: 3.8099 - val_loss: 1.2486\n",
      "Epoch 26/50\n",
      "27/27 [==============================] - 0s 2ms/step - loss: 3.6370 - val_loss: 1.7522\n",
      "Epoch 27/50\n",
      "27/27 [==============================] - 0s 4ms/step - loss: 3.7001 - val_loss: 1.5034\n",
      "Epoch 28/50\n",
      "27/27 [==============================] - 0s 4ms/step - loss: 3.2190 - val_loss: 1.2630\n",
      "Epoch 29/50\n",
      "27/27 [==============================] - 0s 3ms/step - loss: 3.3764 - val_loss: 1.8978\n",
      "Epoch 29: early stopping\n",
      "7/7 [==============================] - 0s 215us/step - loss: 1.8978\n",
      "Test Loss: 1.8977762460708618\n"
     ]
    }
   ],
   "source": [
    "# Define input layer\n",
    "inputs = Input(shape=(X_train_grp.shape[1], X_train_grp.shape[2]))\n",
    "\n",
    "# Convolutional layers with max pooling and dropout regularization\n",
    "conv1 = Conv1D(filters=64, kernel_size=1, activation='relu')(inputs)\n",
    "pool1 = MaxPooling1D(pool_size=1)(conv1)  # Adjust pool size to 1\n",
    "dropout1 = Dropout(0.2)(pool1)\n",
    "\n",
    "conv2 = Conv1D(filters=64, kernel_size=1, activation='relu')(dropout1)\n",
    "pool2 = MaxPooling1D(pool_size=1)(conv2)  # Adjust pool size to 1\n",
    "dropout2 = Dropout(0.2)(pool2)\n",
    "\n",
    "# Flatten layer to transition from 3D to 2D data\n",
    "flatten = Flatten()(dropout2)\n",
    "\n",
    "# Dense layers for further processing\n",
    "dense1 = Dense(units=50, activation='relu')(flatten)\n",
    "dropout3 = Dropout(0.2)(dense1)\n",
    "\n",
    "# Output layer for regression\n",
    "outputs = Dense(units=1)(dropout3)\n",
    "\n",
    "# Define model\n",
    "model = Model(inputs=inputs, outputs=outputs)\n",
    "\n",
    "# Compile model\n",
    "model.compile(optimizer='adam', loss='mean_squared_error')\n",
    "\n",
    "# Early stopping\n",
    "early_stopping = EarlyStopping(monitor='val_loss', patience=5, verbose=1)\n",
    "\n",
    "# Train model with validation data\n",
    "history = model.fit(X_train_grp, y_train, epochs=50, batch_size=32, verbose=1, validation_data=(X_test_grp, y_test), callbacks=[early_stopping])\n",
    "\n",
    "# Evaluate model\n",
    "loss_cnn_grp = model.evaluate(X_test_grp, y_test)\n",
    "print(\"Test Loss:\", loss_cnn_grp)\n"
   ]
  },
  {
   "cell_type": "code",
   "execution_count": 79,
   "metadata": {},
   "outputs": [
    {
     "data": {
      "image/png": "[encoded data removed]",
      "text/plain": [
       "<Figure size 640x480 with 1 Axes>"
      ]
     },
     "metadata": {},
     "output_type": "display_data"
    }
   ],
   "source": [
    "# Plot training and validation loss\n",
    "plt.plot(history.history['loss'], label='Training Loss')\n",
    "plt.plot(history.history['val_loss'], label='Validation Loss')\n",
    "plt.title('Training and Validation Loss')\n",
    "plt.xlabel('Epoch')\n",
    "plt.ylabel('Loss')\n",
    "plt.legend()\n",
    "plt.show()"
   ]
  },
  {
   "cell_type": "code",
   "execution_count": 80,
   "metadata": {},
   "outputs": [
    {
     "name": "stdout",
     "output_type": "stream",
     "text": [
      "7/7 [==============================] - 0s 125us/step\n"
     ]
    },
    {
     "data": {
      "image/png": "[encoded data removed]",
      "text/plain": [
       "<Figure size 640x480 with 1 Axes>"
      ]
     },
     "metadata": {},
     "output_type": "display_data"
    }
   ],
   "source": [
    "# Predictions\n",
    "y_pred_cnn_grp = model.predict(X_test_grp)\n",
    "\n",
    "# Plot actual vs predicted values\n",
    "plt.scatter(y_test, y_pred_cnn_grp)\n",
    "plt.xlabel('Actual')\n",
    "plt.ylabel('Predicted')\n",
    "plt.title('Actual vs Predicted')\n",
    "\n",
    "# Add abline (identity line)\n",
    "plt.plot(y_test, y_test, color='red')  # abline with slope 1 and intercept 0\n",
    "plt.show()"
   ]
  },
  {
   "cell_type": "code",
   "execution_count": 81,
   "metadata": {},
   "outputs": [
    {
     "name": "stdout",
     "output_type": "stream",
     "text": [
      "RMSE: 1.3775978413921182\n"
     ]
    }
   ],
   "source": [
    "# Calculate RMSE\n",
    "rmse_cnn_grp = np.sqrt(mean_squared_error(y_test, y_pred_cnn_grp))\n",
    "print(\"RMSE:\", rmse_cnn_grp)"
   ]
  },
  {
   "cell_type": "code",
   "execution_count": 82,
   "metadata": {},
   "outputs": [
    {
     "name": "stdout",
     "output_type": "stream",
     "text": [
      "MAE: 1.1820537769849695\n"
     ]
    }
   ],
   "source": [
    "mae_cnn_grp = mae(y_test, y_pred_cnn_grp)\n",
    "print(\"MAE:\", mae_cnn_grp)"
   ]
  },
  {
   "cell_type": "code",
   "execution_count": 83,
   "metadata": {},
   "outputs": [
    {
     "data": {
      "text/html": [
       "<div>\n",
       "<style scoped>\n",
       "    .dataframe tbody tr th:only-of-type {\n",
       "        vertical-align: middle;\n",
       "    }\n",
       "\n",
       "    .dataframe tbody tr th {\n",
       "        vertical-align: top;\n",
       "    }\n",
       "\n",
       "    .dataframe thead th {\n",
       "        text-align: right;\n",
       "    }\n",
       "</style>\n",
       "<table border=\"1\" class=\"dataframe\">\n",
       "  <thead>\n",
       "    <tr style=\"text-align: right;\">\n",
       "      <th></th>\n",
       "      <th>Mean of squared error</th>\n",
       "      <th>Mean of absolute error</th>\n",
       "      <th>Root Mean of squared error</th>\n",
       "    </tr>\n",
       "  </thead>\n",
       "  <tbody>\n",
       "    <tr>\n",
       "      <th>LSTM_PCA</th>\n",
       "      <td>0.013536</td>\n",
       "      <td>0.094399</td>\n",
       "      <td>0.116344</td>\n",
       "    </tr>\n",
       "    <tr>\n",
       "      <th>LSTM_SVD</th>\n",
       "      <td>0.022777</td>\n",
       "      <td>0.120106</td>\n",
       "      <td>0.150920</td>\n",
       "    </tr>\n",
       "    <tr>\n",
       "      <th>LSTM_GRP</th>\n",
       "      <td>0.058442</td>\n",
       "      <td>0.222947</td>\n",
       "      <td>0.241749</td>\n",
       "    </tr>\n",
       "    <tr>\n",
       "      <th>RNN_PCA</th>\n",
       "      <td>0.122486</td>\n",
       "      <td>0.304541</td>\n",
       "      <td>0.349980</td>\n",
       "    </tr>\n",
       "    <tr>\n",
       "      <th>RNN_SVD</th>\n",
       "      <td>0.123659</td>\n",
       "      <td>0.306291</td>\n",
       "      <td>0.351652</td>\n",
       "    </tr>\n",
       "    <tr>\n",
       "      <th>RNN_GRP</th>\n",
       "      <td>0.586046</td>\n",
       "      <td>0.745881</td>\n",
       "      <td>0.765536</td>\n",
       "    </tr>\n",
       "    <tr>\n",
       "      <th>CNN_PCA</th>\n",
       "      <td>0.952736</td>\n",
       "      <td>0.739297</td>\n",
       "      <td>0.976082</td>\n",
       "    </tr>\n",
       "    <tr>\n",
       "      <th>CNN_SVD</th>\n",
       "      <td>2.055630</td>\n",
       "      <td>1.185744</td>\n",
       "      <td>1.433747</td>\n",
       "    </tr>\n",
       "    <tr>\n",
       "      <th>CNN_GRP</th>\n",
       "      <td>1.897776</td>\n",
       "      <td>1.182054</td>\n",
       "      <td>1.377598</td>\n",
       "    </tr>\n",
       "  </tbody>\n",
       "</table>\n",
       "</div>"
      ],
      "text/plain": [
       "          Mean of squared error  Mean of absolute error  \\\n",
       "LSTM_PCA               0.013536                0.094399   \n",
       "LSTM_SVD               0.022777                0.120106   \n",
       "LSTM_GRP               0.058442                0.222947   \n",
       "RNN_PCA                0.122486                0.304541   \n",
       "RNN_SVD                0.123659                0.306291   \n",
       "RNN_GRP                0.586046                0.745881   \n",
       "CNN_PCA                0.952736                0.739297   \n",
       "CNN_SVD                2.055630                1.185744   \n",
       "CNN_GRP                1.897776                1.182054   \n",
       "\n",
       "          Root Mean of squared error  \n",
       "LSTM_PCA                    0.116344  \n",
       "LSTM_SVD                    0.150920  \n",
       "LSTM_GRP                    0.241749  \n",
       "RNN_PCA                     0.349980  \n",
       "RNN_SVD                     0.351652  \n",
       "RNN_GRP                     0.765536  \n",
       "CNN_PCA                     0.976082  \n",
       "CNN_SVD                     1.433747  \n",
       "CNN_GRP                     1.377598  "
      ]
     },
     "execution_count": 83,
     "metadata": {},
     "output_type": "execute_result"
    }
   ],
   "source": [
    "model_comp = pd.DataFrame({'Mean of squared error':  [loss_lstm_pca , loss_lstm_svd,loss_lstm_grp ,\n",
    "                           loss_rnn_pca , loss_rnn_svd,loss_rnn_grp ,loss_cnn_pca , loss_cnn_svd,loss_cnn_grp]  ,\n",
    "                           'Mean of absolute error' : [mae_lstm_pca , mae_lstm_svd , mae_lstm_grp ,\n",
    "                           mae_rnn_pca , mae_rnn_svd , mae_rnn_grp ,mae_cnn_pca , mae_cnn_svd , mae_cnn_grp],\n",
    "                           'Root Mean of squared error' : [rmse_lstm_pca , rmse_lstm_svd , rmse_lstm_grp,\n",
    "                           rmse_rnn_pca , rmse_rnn_svd , rmse_rnn_grp ,rmse_cnn_pca , rmse_cnn_svd , rmse_cnn_grp],}\n",
    "                           , index = ['LSTM_PCA' , 'LSTM_SVD' , 'LSTM_GRP' ,'RNN_PCA' , 'RNN_SVD' , 'RNN_GRP',\n",
    "                           'CNN_PCA' , 'CNN_SVD' , 'CNN_GRP'])\n",
    "model_comp"
   ]
  },
  {
   "cell_type": "code",
   "execution_count": 113,
   "metadata": {},
   "outputs": [
    {
     "name": "stdout",
     "output_type": "stream",
     "text": [
      "       Y_True  Y_LSTM_PCA  Y_LSTM_SVD  Y_LSTM_GRP  Y_RNN_PCA  Y_RNN_SVD  Y_RNN_GRP  Y_CNN_PCA  Y_CNN_SVD  Y_CNN_GRP\n",
      "0   14.521703   14.538884   14.618620   14.306742  14.162800  14.160797  13.721581  14.768211  15.767705  15.724655\n",
      "1   14.519987   14.539072   14.619129   14.303905  14.162779  14.160748  13.721542  14.901928  15.890779  15.724035\n",
      "2   14.519892   14.538501   14.618352   14.314382  14.162798  14.160825  13.721604  14.823439  15.556435  15.758152\n",
      "3   14.522431   14.539504   14.620215   14.312597  14.162797  14.160805  13.721577  14.900578  15.696058  15.773512\n",
      "4   14.530651   14.546450   14.627609   14.336116  14.162645  14.160788  13.721723  15.217148  15.607097  16.083433\n",
      "5   14.548152   14.548437   14.631091   14.334157  14.162760  14.160880  13.721716  15.323576  15.749956  16.107712\n",
      "6   14.551825   14.552256   14.636250   14.338650  14.162709  14.160857  13.721737  15.542389  15.943241  16.298601\n",
      "7   14.577379   14.551612   14.637782   14.326917  14.162888  14.160948  13.721662  15.660591  16.194853  16.139706\n",
      "8   14.588020   14.552523   14.639586   14.324792  14.162891  14.160923  13.721630  15.810539  16.422892  16.184984\n",
      "9   14.593677   14.552816   14.640006   14.328272  14.162889  14.160940  13.721637  15.886805  16.377392  16.236469\n",
      "10  14.590808   14.552158   14.639648   14.322224  14.162855  14.160844  13.721551  16.059177  16.664925  16.213802\n",
      "11  14.586063   14.551985   14.639650   14.324199  14.162849  14.160839  13.721542  16.115976  16.652912  16.267122\n",
      "12  14.586377   14.552289   14.640315   14.324975  14.162842  14.160824  13.721521  16.240152  16.740175  16.306414\n",
      "13  14.587195   14.552289   14.640553   14.326926  14.162841  14.160828  13.721512  16.283443  16.737455  16.363085\n",
      "14  14.586367   14.552525   14.640683   14.332985  14.162847  14.160883  13.721552  16.267550  16.558552  16.493729\n",
      "15  14.585086   14.555432   14.643496   14.340905  14.162787  14.160892  13.721627  16.401628  16.519775  16.813007\n",
      "16  14.591863   14.554802   14.644678   14.330578  14.162846  14.160827  13.721475  16.725657  17.110966  16.570408\n",
      "17  14.607225   14.553254   14.637783   14.317903  14.162872  14.160912  13.721677  15.482792  16.742508  16.599211\n",
      "18  14.608485   14.553444   14.637905   14.320856  14.162870  14.160927  13.721729  15.345121  16.479948  16.526489\n",
      "19  14.607753   14.552905   14.637366   14.318931  14.162873  14.160921  13.721718  15.315035  16.520445  16.465523\n",
      "20  14.601465   14.553457   14.637722   14.324785  14.162852  14.160925  13.721783  15.142823  16.167931  16.365641\n",
      "21  14.601067   14.551633   14.635898   14.315348  14.162865  14.160892  13.721699  15.335224  16.576342  16.335728\n",
      "22  14.594375   14.551411   14.635565   14.318580  14.162867  14.160906  13.721735  15.168756  16.376747  16.281092\n",
      "23  14.594202   14.551825   14.636252   14.320023  14.162870  14.160917  13.721751  15.123852  16.329605  16.245642\n",
      "24  14.596132   14.551711   14.636181   14.320943  14.162869  14.160919  13.721759  15.084898  16.274511  16.205122\n",
      "25  14.593176   14.551386   14.635779   14.322207  14.162865  14.160916  13.721764  15.024835  16.188501  16.171949\n",
      "26  14.589452   14.550540   14.634933   14.318263  14.162859  14.160888  13.721731  15.161944  16.333279  16.125446\n",
      "27  14.585098   14.550234   14.634662   14.317255  14.162851  14.160870  13.721719  15.219331  16.378201  16.106682\n",
      "28  14.583439   14.550134   14.634672   14.317480  14.162848  14.160860  13.721715  15.231069  16.389376  16.099686\n",
      "29  14.582987   14.550365   14.635170   14.318104  14.162846  14.160858  13.721712  15.256365  16.408779  16.101185\n",
      "30  14.583168   14.550424   14.635436   14.320060  14.162848  14.160864  13.721717  15.229077  16.351957  16.107319\n",
      "31  14.582901   14.551217   14.636348   14.328338  14.162846  14.160904  13.721760  15.281485  16.036863  16.173571\n",
      "32  14.584273   14.551703   14.637492   14.326588  14.162858  14.160900  13.721743  15.347583  16.177868  16.171007\n",
      "33  14.590692   14.553260   14.639538   14.331357  14.162852  14.160919  13.721764  15.493308  16.155273  16.266069\n",
      "34  14.595080   14.553429   14.640460   14.324641  14.162863  14.160881  13.721713  15.616863  16.558834  16.220747\n",
      "35  14.603022   14.553905   14.641288   14.328013  14.162868  14.160900  13.721725  15.689729  16.476156  16.283941\n",
      "36  14.601158   14.553497   14.640928   14.325664  14.162851  14.160857  13.721689  15.805201  16.607624  16.259119\n",
      "37  14.598078   14.554476   14.641943   14.334822  14.162845  14.160910  13.721737  15.851990  16.334225  16.412540\n",
      "38  14.598003   14.553124   14.640553   14.332548  14.162842  14.160883  13.721698  15.867604  16.356569  16.357393\n",
      "39  14.587407   14.551627   14.638939   14.329451  14.162821  14.160826  13.721649  15.890708  16.447340  16.330276\n",
      "40  14.582709   14.552865   14.639927   14.337889  14.162783  14.160854  13.721699  15.949995  16.282661  16.571375\n",
      "41  14.579209   14.549854   14.636976   14.327876  14.162773  14.160740  13.721573  16.037813  16.498142  16.343756\n",
      "42  14.567001   14.549534   14.636790   14.328794  14.162758  14.160716  13.721558  16.109005  16.542105  16.412527\n",
      "43  14.568876   14.550055   14.637683   14.328444  14.162740  14.160679  13.721527  16.282513  16.707212  16.446606\n",
      "44  14.570399   14.550131   14.638131   14.332491  14.162760  14.160732  13.721548  16.260019  16.577703  16.561697\n",
      "45  14.570518   14.549908   14.638073   14.333772  14.162748  14.160725  13.721531  16.336706  16.576847  16.616056\n",
      "46  14.567067   14.549474   14.637744   14.330919  14.162702  14.160625  13.721453  16.527718  16.869173  16.582314\n",
      "47  14.560971   14.546108   14.627400   14.321645  14.162745  14.160710  13.721703  15.118101  16.180283  16.467867\n",
      "48  14.562928   14.545286   14.626833   14.315746  14.162747  14.160678  13.721642  15.223558  16.497293  16.427120\n",
      "49  14.556852   14.544927   14.626410   14.315942  14.162746  14.160679  13.721659  15.155263  16.431911  16.373686\n"
     ]
    }
   ],
   "source": [
    "y_test_reshaped = y_test[-50:].values.reshape(-1, 1)\n",
    "pd.set_option('display.expand_frame_repr', False)\n",
    "table_pred = pd.DataFrame({\n",
    "    'Y_True': y_test_reshaped.flatten(),\n",
    "    'Y_LSTM_PCA': y_pred_lstm_pca[-50:].flatten(),\n",
    "    'Y_LSTM_SVD': y_pred_lstm_svd[-50:].flatten(),\n",
    "    'Y_LSTM_GRP': y_pred_lstm_grp[-50:].flatten(),\n",
    "    'Y_RNN_PCA': y_pred_rnn_pca[-50:].flatten(),\n",
    "    'Y_RNN_SVD': y_pred_rnn_svd[-50:].flatten(),\n",
    "    'Y_RNN_GRP': y_pred_rnn_grp[-50:].flatten(),\n",
    "    'Y_CNN_PCA': y_pred_cnn_pca[-50:].flatten(),\n",
    "    'Y_CNN_SVD': y_pred_cnn_svd[-50:].flatten(),\n",
    "    'Y_CNN_GRP': y_pred_cnn_grp[-50:].flatten()\n",
    "})\n",
    "\n",
    "print(table_pred)"
   ]
  }
 ],
 "metadata": {
  "kernelspec": {
   "display_name": "env1",
   "language": "python",
   "name": "python3"
  },
  "language_info": {
   "codemirror_mode": {
    "name": "ipython",
    "version": 3
   },
   "file_extension": ".py",
   "mimetype": "text/x-python",
   "name": "python",
   "nbconvert_exporter": "python",
   "pygments_lexer": "ipython3",
   "version": "3.10.9"
  }
 },
 "nbformat": 4,
 "nbformat_minor": 2
}
